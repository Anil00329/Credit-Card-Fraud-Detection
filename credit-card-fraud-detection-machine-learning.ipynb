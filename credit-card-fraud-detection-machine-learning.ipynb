{
 "cells": [
  {
   "cell_type": "code",
   "execution_count": 1,
   "id": "a6a432f6",
   "metadata": {
    "_cell_guid": "b1076dfc-b9ad-4769-8c92-a6c4dae69d19",
    "_uuid": "8f2839f25d086af736a60e9eeb907d3b93b6e0e5",
    "execution": {
     "iopub.execute_input": "2024-08-28T13:57:47.551299Z",
     "iopub.status.busy": "2024-08-28T13:57:47.550874Z",
     "iopub.status.idle": "2024-08-28T13:57:55.473268Z",
     "shell.execute_reply": "2024-08-28T13:57:55.472289Z"
    },
    "papermill": {
     "duration": 7.943175,
     "end_time": "2024-08-28T13:57:55.475766",
     "exception": false,
     "start_time": "2024-08-28T13:57:47.532591",
     "status": "completed"
    },
    "tags": []
   },
   "outputs": [
    {
     "name": "stderr",
     "output_type": "stream",
     "text": [
      "Using `tqdm.autonotebook.tqdm` in notebook mode. Use `tqdm.tqdm` instead to force console mode (e.g. in jupyter console)\n"
     ]
    }
   ],
   "source": [
    "import copy\n",
    "import shap\n",
    "import optuna\n",
    "import joblib\n",
    "\n",
    "import numpy as np\n",
    "import pandas as pd\n",
    "import matplotlib.pyplot as plt\n",
    "import seaborn as sns\n",
    "import xgboost as xgb\n",
    "\n",
    "from tabulate import tabulate\n",
    "from sklearn.base import BaseEstimator, TransformerMixin\n",
    "from sklearn.pipeline import Pipeline\n",
    "from optuna.samplers import TPESampler\n",
    "from sklearn.metrics import precision_score, precision_recall_curve, average_precision_score\n",
    "from sklearn.metrics import (\n",
    "    accuracy_score, \n",
    "    precision_score, \n",
    "    recall_score, \n",
    "    roc_auc_score, \n",
    "    brier_score_loss, \n",
    "    confusion_matrix, \n",
    "    average_precision_score, \n",
    ")\n",
    "from sklearn.model_selection import TimeSeriesSplit \n",
    "        \n",
    "import warnings\n",
    "warnings.filterwarnings(\"ignore\", category=FutureWarning)"
   ]
  },
  {
   "cell_type": "markdown",
   "id": "55d1456f",
   "metadata": {
    "papermill": {
     "duration": 0.017123,
     "end_time": "2024-08-28T13:57:55.510802",
     "exception": false,
     "start_time": "2024-08-28T13:57:55.493679",
     "status": "completed"
    },
    "tags": []
   },
   "source": [
    "<img src=\"https://www.abclegal.com/hs-fs/hubfs/iStock-495421971%20(1).jpg?width=1200&name=iStock-495421971%20(1).jpg\" alt=\"Credit Card Fraud\" width=\"800\"/>\n",
    "\n",
    "\n",
    "# 🤖 Credit Card Fraud Detection 💳 Machine Learning <a class=\"anchor\"  id=\"headline\"></a>\n",
    "\n",
    "In this notebook we are going to perform exploratory data analysis and iterate through different machine learning models using [Kaggles Credit Card Fraud Detection](https://www.kaggle.com/datasets/mlg-ulb/creditcardfraud/data) dataset. The objective is to build a model which predicts if a transaction is fraudulent (1) or genuine (0) as accuractely as possible. "
   ]
  },
  {
   "cell_type": "code",
   "execution_count": 2,
   "id": "994c5d26",
   "metadata": {
    "execution": {
     "iopub.execute_input": "2024-08-28T13:57:55.546833Z",
     "iopub.status.busy": "2024-08-28T13:57:55.546245Z",
     "iopub.status.idle": "2024-08-28T13:57:59.450503Z",
     "shell.execute_reply": "2024-08-28T13:57:59.449431Z"
    },
    "papermill": {
     "duration": 3.925499,
     "end_time": "2024-08-28T13:57:59.453045",
     "exception": false,
     "start_time": "2024-08-28T13:57:55.527546",
     "status": "completed"
    },
    "tags": []
   },
   "outputs": [
    {
     "name": "stdout",
     "output_type": "stream",
     "text": [
      "Rows: 284,807\n",
      "Cols: 31\n"
     ]
    },
    {
     "data": {
      "text/html": [
       "<div>\n",
       "<style scoped>\n",
       "    .dataframe tbody tr th:only-of-type {\n",
       "        vertical-align: middle;\n",
       "    }\n",
       "\n",
       "    .dataframe tbody tr th {\n",
       "        vertical-align: top;\n",
       "    }\n",
       "\n",
       "    .dataframe thead th {\n",
       "        text-align: right;\n",
       "    }\n",
       "</style>\n",
       "<table border=\"1\" class=\"dataframe\">\n",
       "  <thead>\n",
       "    <tr style=\"text-align: right;\">\n",
       "      <th></th>\n",
       "      <th>Time</th>\n",
       "      <th>V1</th>\n",
       "      <th>V2</th>\n",
       "      <th>V3</th>\n",
       "      <th>V4</th>\n",
       "      <th>V5</th>\n",
       "      <th>V6</th>\n",
       "      <th>V7</th>\n",
       "      <th>V8</th>\n",
       "      <th>V9</th>\n",
       "      <th>...</th>\n",
       "      <th>V21</th>\n",
       "      <th>V22</th>\n",
       "      <th>V23</th>\n",
       "      <th>V24</th>\n",
       "      <th>V25</th>\n",
       "      <th>V26</th>\n",
       "      <th>V27</th>\n",
       "      <th>V28</th>\n",
       "      <th>Amount</th>\n",
       "      <th>Class</th>\n",
       "    </tr>\n",
       "  </thead>\n",
       "  <tbody>\n",
       "    <tr>\n",
       "      <th>0</th>\n",
       "      <td>0.0</td>\n",
       "      <td>-1.359807</td>\n",
       "      <td>-0.072781</td>\n",
       "      <td>2.536347</td>\n",
       "      <td>1.378155</td>\n",
       "      <td>-0.338321</td>\n",
       "      <td>0.462388</td>\n",
       "      <td>0.239599</td>\n",
       "      <td>0.098698</td>\n",
       "      <td>0.363787</td>\n",
       "      <td>...</td>\n",
       "      <td>-0.018307</td>\n",
       "      <td>0.277838</td>\n",
       "      <td>-0.110474</td>\n",
       "      <td>0.066928</td>\n",
       "      <td>0.128539</td>\n",
       "      <td>-0.189115</td>\n",
       "      <td>0.133558</td>\n",
       "      <td>-0.021053</td>\n",
       "      <td>149.62</td>\n",
       "      <td>0</td>\n",
       "    </tr>\n",
       "    <tr>\n",
       "      <th>1</th>\n",
       "      <td>0.0</td>\n",
       "      <td>1.191857</td>\n",
       "      <td>0.266151</td>\n",
       "      <td>0.166480</td>\n",
       "      <td>0.448154</td>\n",
       "      <td>0.060018</td>\n",
       "      <td>-0.082361</td>\n",
       "      <td>-0.078803</td>\n",
       "      <td>0.085102</td>\n",
       "      <td>-0.255425</td>\n",
       "      <td>...</td>\n",
       "      <td>-0.225775</td>\n",
       "      <td>-0.638672</td>\n",
       "      <td>0.101288</td>\n",
       "      <td>-0.339846</td>\n",
       "      <td>0.167170</td>\n",
       "      <td>0.125895</td>\n",
       "      <td>-0.008983</td>\n",
       "      <td>0.014724</td>\n",
       "      <td>2.69</td>\n",
       "      <td>0</td>\n",
       "    </tr>\n",
       "    <tr>\n",
       "      <th>2</th>\n",
       "      <td>1.0</td>\n",
       "      <td>-1.358354</td>\n",
       "      <td>-1.340163</td>\n",
       "      <td>1.773209</td>\n",
       "      <td>0.379780</td>\n",
       "      <td>-0.503198</td>\n",
       "      <td>1.800499</td>\n",
       "      <td>0.791461</td>\n",
       "      <td>0.247676</td>\n",
       "      <td>-1.514654</td>\n",
       "      <td>...</td>\n",
       "      <td>0.247998</td>\n",
       "      <td>0.771679</td>\n",
       "      <td>0.909412</td>\n",
       "      <td>-0.689281</td>\n",
       "      <td>-0.327642</td>\n",
       "      <td>-0.139097</td>\n",
       "      <td>-0.055353</td>\n",
       "      <td>-0.059752</td>\n",
       "      <td>378.66</td>\n",
       "      <td>0</td>\n",
       "    </tr>\n",
       "  </tbody>\n",
       "</table>\n",
       "<p>3 rows × 31 columns</p>\n",
       "</div>"
      ],
      "text/plain": [
       "   Time        V1        V2        V3        V4        V5        V6        V7  \\\n",
       "0   0.0 -1.359807 -0.072781  2.536347  1.378155 -0.338321  0.462388  0.239599   \n",
       "1   0.0  1.191857  0.266151  0.166480  0.448154  0.060018 -0.082361 -0.078803   \n",
       "2   1.0 -1.358354 -1.340163  1.773209  0.379780 -0.503198  1.800499  0.791461   \n",
       "\n",
       "         V8        V9  ...       V21       V22       V23       V24       V25  \\\n",
       "0  0.098698  0.363787  ... -0.018307  0.277838 -0.110474  0.066928  0.128539   \n",
       "1  0.085102 -0.255425  ... -0.225775 -0.638672  0.101288 -0.339846  0.167170   \n",
       "2  0.247676 -1.514654  ...  0.247998  0.771679  0.909412 -0.689281 -0.327642   \n",
       "\n",
       "        V26       V27       V28  Amount  Class  \n",
       "0 -0.189115  0.133558 -0.021053  149.62      0  \n",
       "1  0.125895 -0.008983  0.014724    2.69      0  \n",
       "2 -0.139097 -0.055353 -0.059752  378.66      0  \n",
       "\n",
       "[3 rows x 31 columns]"
      ]
     },
     "execution_count": 2,
     "metadata": {},
     "output_type": "execute_result"
    }
   ],
   "source": [
    "creditcard = pd.read_csv('Datasets/creditcard.csv')\n",
    "print(f\"Rows: {creditcard.shape[0]:,}\")\n",
    "print(f\"Cols: {creditcard.shape[1]:,}\")\n",
    "creditcard.head(3)"
   ]
  },
  {
   "cell_type": "markdown",
   "id": "43197c07",
   "metadata": {
    "papermill": {
     "duration": 0.017155,
     "end_time": "2024-08-28T13:57:59.487511",
     "exception": false,
     "start_time": "2024-08-28T13:57:59.470356",
     "status": "completed"
    },
    "tags": []
   },
   "source": [
    "The dataset consists of 31 columns out of which 28 are anonymized. The named and defined columns are: \n",
    "\n",
    "| Column | Description |\n",
    "| ------ | ----------- |\n",
    "| `Time` | Number of seconds elapsed between this transaction and the first transaction in the dataset. |\n",
    "| `Amount` | Amount of the transaction. |\n",
    "| `Class` | Target class. $0$ if genuine, $1$ if fraudulent. |"
   ]
  },
  {
   "cell_type": "code",
   "execution_count": 3,
   "id": "9d3dd5e5",
   "metadata": {
    "execution": {
     "iopub.execute_input": "2024-08-28T13:57:59.524291Z",
     "iopub.status.busy": "2024-08-28T13:57:59.523332Z",
     "iopub.status.idle": "2024-08-28T13:57:59.535914Z",
     "shell.execute_reply": "2024-08-28T13:57:59.534915Z"
    },
    "papermill": {
     "duration": 0.032793,
     "end_time": "2024-08-28T13:57:59.537923",
     "exception": false,
     "start_time": "2024-08-28T13:57:59.50513",
     "status": "completed"
    },
    "tags": []
   },
   "outputs": [
    {
     "data": {
      "text/plain": [
       "Time      float64\n",
       "Amount    float64\n",
       "Class       int64\n",
       "dtype: object"
      ]
     },
     "execution_count": 3,
     "metadata": {},
     "output_type": "execute_result"
    }
   ],
   "source": [
    "creditcard[['Time', 'Amount', 'Class']].dtypes "
   ]
  },
  {
   "cell_type": "code",
   "execution_count": 4,
   "id": "c6db661c",
   "metadata": {
    "execution": {
     "iopub.execute_input": "2024-08-28T13:57:59.574918Z",
     "iopub.status.busy": "2024-08-28T13:57:59.57422Z",
     "iopub.status.idle": "2024-08-28T13:57:59.615232Z",
     "shell.execute_reply": "2024-08-28T13:57:59.614239Z"
    },
    "papermill": {
     "duration": 0.06229,
     "end_time": "2024-08-28T13:57:59.617622",
     "exception": false,
     "start_time": "2024-08-28T13:57:59.555332",
     "status": "completed"
    },
    "tags": []
   },
   "outputs": [
    {
     "data": {
      "text/html": [
       "<div>\n",
       "<style scoped>\n",
       "    .dataframe tbody tr th:only-of-type {\n",
       "        vertical-align: middle;\n",
       "    }\n",
       "\n",
       "    .dataframe tbody tr th {\n",
       "        vertical-align: top;\n",
       "    }\n",
       "\n",
       "    .dataframe thead th {\n",
       "        text-align: right;\n",
       "    }\n",
       "</style>\n",
       "<table border=\"1\" class=\"dataframe\">\n",
       "  <thead>\n",
       "    <tr style=\"text-align: right;\">\n",
       "      <th></th>\n",
       "      <th>Time</th>\n",
       "      <th>Time_Hours</th>\n",
       "      <th>Time_Days</th>\n",
       "      <th>Hour_of_Day</th>\n",
       "      <th>Hour_sin</th>\n",
       "      <th>Hour_cos</th>\n",
       "    </tr>\n",
       "  </thead>\n",
       "  <tbody>\n",
       "    <tr>\n",
       "      <th>0</th>\n",
       "      <td>0.0</td>\n",
       "      <td>0.000000</td>\n",
       "      <td>0.000000</td>\n",
       "      <td>0.000000</td>\n",
       "      <td>0.000000</td>\n",
       "      <td>1.0</td>\n",
       "    </tr>\n",
       "    <tr>\n",
       "      <th>1</th>\n",
       "      <td>0.0</td>\n",
       "      <td>0.000000</td>\n",
       "      <td>0.000000</td>\n",
       "      <td>0.000000</td>\n",
       "      <td>0.000000</td>\n",
       "      <td>1.0</td>\n",
       "    </tr>\n",
       "    <tr>\n",
       "      <th>2</th>\n",
       "      <td>1.0</td>\n",
       "      <td>0.000278</td>\n",
       "      <td>0.000012</td>\n",
       "      <td>0.000278</td>\n",
       "      <td>0.000073</td>\n",
       "      <td>1.0</td>\n",
       "    </tr>\n",
       "    <tr>\n",
       "      <th>3</th>\n",
       "      <td>1.0</td>\n",
       "      <td>0.000278</td>\n",
       "      <td>0.000012</td>\n",
       "      <td>0.000278</td>\n",
       "      <td>0.000073</td>\n",
       "      <td>1.0</td>\n",
       "    </tr>\n",
       "    <tr>\n",
       "      <th>4</th>\n",
       "      <td>2.0</td>\n",
       "      <td>0.000556</td>\n",
       "      <td>0.000023</td>\n",
       "      <td>0.000556</td>\n",
       "      <td>0.000145</td>\n",
       "      <td>1.0</td>\n",
       "    </tr>\n",
       "  </tbody>\n",
       "</table>\n",
       "</div>"
      ],
      "text/plain": [
       "   Time  Time_Hours  Time_Days  Hour_of_Day  Hour_sin  Hour_cos\n",
       "0   0.0    0.000000   0.000000     0.000000  0.000000       1.0\n",
       "1   0.0    0.000000   0.000000     0.000000  0.000000       1.0\n",
       "2   1.0    0.000278   0.000012     0.000278  0.000073       1.0\n",
       "3   1.0    0.000278   0.000012     0.000278  0.000073       1.0\n",
       "4   2.0    0.000556   0.000023     0.000556  0.000145       1.0"
      ]
     },
     "execution_count": 4,
     "metadata": {},
     "output_type": "execute_result"
    }
   ],
   "source": [
    "# ----------------------------- #\n",
    "# Add some time-related columns #\n",
    "# ----------------------------- #\n",
    "\n",
    "creditcard['Time_Hours'] = creditcard['Time'] / 3_600\n",
    "creditcard['Time_Days'] = creditcard['Time_Hours'] / 24\n",
    "creditcard['Hour_of_Day'] = creditcard['Time'] % 86_400 / 3_600\n",
    "\n",
    "# Encode as cyclic features which can help ML models understand cyclic nature of time.\n",
    "creditcard['Hour_sin'] = np.sin(2 * np.pi * creditcard['Hour_of_Day'] / 24)\n",
    "creditcard['Hour_cos'] = np.cos(2 * np.pi * creditcard['Hour_of_Day'] / 24)\n",
    "\n",
    "creditcard[['Time', 'Time_Hours', 'Time_Days', 'Hour_of_Day', 'Hour_sin', 'Hour_cos']].head(5)"
   ]
  },
  {
   "cell_type": "markdown",
   "id": "5ae763a2",
   "metadata": {
    "papermill": {
     "duration": 0.017678,
     "end_time": "2024-08-28T13:57:59.654233",
     "exception": false,
     "start_time": "2024-08-28T13:57:59.636555",
     "status": "completed"
    },
    "tags": []
   },
   "source": [
    "# 🌐 Global Variables <a class=\"anchor\"  id=\"globalvariables\"></a>"
   ]
  },
  {
   "cell_type": "code",
   "execution_count": 5,
   "id": "b8520306",
   "metadata": {
    "execution": {
     "iopub.execute_input": "2024-08-28T13:57:59.69283Z",
     "iopub.status.busy": "2024-08-28T13:57:59.692046Z",
     "iopub.status.idle": "2024-08-28T13:57:59.697452Z",
     "shell.execute_reply": "2024-08-28T13:57:59.696413Z"
    },
    "papermill": {
     "duration": 0.027032,
     "end_time": "2024-08-28T13:57:59.699622",
     "exception": false,
     "start_time": "2024-08-28T13:57:59.67259",
     "status": "completed"
    },
    "tags": []
   },
   "outputs": [],
   "source": [
    "# ------------------------------------------------- #\n",
    "# Global Variables to use across the whole notebook #\n",
    "# ------------------------------------------------- #\n",
    " \n",
    "RANDOM_STATE = 42\n",
    "\n",
    "TS = 'Time'\n",
    "TARGET = 'Class'\n",
    "MONEY = 'Amount'\n",
    "LABELS = ['Genuine', 'Fraudulent']"
   ]
  },
  {
   "cell_type": "markdown",
   "id": "a5dd4b43",
   "metadata": {
    "papermill": {
     "duration": 0.017234,
     "end_time": "2024-08-28T13:57:59.734672",
     "exception": false,
     "start_time": "2024-08-28T13:57:59.717438",
     "status": "completed"
    },
    "tags": []
   },
   "source": [
    "# 🛠️ Helper Methods <a class=\"anchor\"  id=\"helpermethods\"></a>"
   ]
  },
  {
   "cell_type": "code",
   "execution_count": 6,
   "id": "4cc6a072",
   "metadata": {
    "execution": {
     "iopub.execute_input": "2024-08-28T13:57:59.772939Z",
     "iopub.status.busy": "2024-08-28T13:57:59.772167Z",
     "iopub.status.idle": "2024-08-28T13:57:59.783985Z",
     "shell.execute_reply": "2024-08-28T13:57:59.782936Z"
    },
    "papermill": {
     "duration": 0.033449,
     "end_time": "2024-08-28T13:57:59.786088",
     "exception": false,
     "start_time": "2024-08-28T13:57:59.752639",
     "status": "completed"
    },
    "tags": []
   },
   "outputs": [],
   "source": [
    "def return_performance_statistics(model, X_tr, y_tr, X_te, y_te):\n",
    "    results = {\n",
    "        'train': {\n",
    "            'accuracy': None,\n",
    "            'precision': None,\n",
    "            'recall': None,\n",
    "            'auc_roc': None,\n",
    "            'ap': None,\n",
    "            'brier': None\n",
    "        },\n",
    "        'test': {\n",
    "            'accuracy': None,\n",
    "            'precision': None,\n",
    "            'recall': None,\n",
    "            'auc_roc': None,\n",
    "            'ap': None,\n",
    "            'brier': None\n",
    "        },\n",
    "    }\n",
    "\n",
    "    # --------- #\n",
    "    # TRAIN_VAL #\n",
    "    # --------- #\n",
    "    y_proba_train = model.predict_proba(X_tr)[:, 1]\n",
    "    y_pred_train = model.predict(X_tr)\n",
    "\n",
    "    results['train']['accuracy'] = accuracy_score(y_tr, y_pred_train)\n",
    "    results['train']['precision'] = precision_score(y_tr, y_pred_train)\n",
    "    results['train']['recall'] = recall_score(y_tr, y_pred_train)\n",
    "    results['train']['auc_roc'] = roc_auc_score(y_tr, y_proba_train)\n",
    "    results['train']['ap'] = average_precision_score(y_tr, y_proba_train)\n",
    "    results['train']['brier'] = brier_score_loss(y_tr, y_proba_train)\n",
    "\n",
    "    # ---- #\n",
    "    # TEST #\n",
    "    # ---- #\n",
    "\n",
    "    y_proba_test = model.predict_proba(X_te)[:, 1]\n",
    "    y_proba_test = pd.Series(y_proba_test, index=y_te.index)\n",
    "    y_pred_test = model.predict(X_te)\n",
    "\n",
    "    results['test']['accuracy'] = accuracy_score(y_te, y_pred_test)\n",
    "    results['test']['precision'] = precision_score(y_te, y_pred_test)\n",
    "    results['test']['recall'] = recall_score(y_te, y_pred_test)\n",
    "    results['test']['auc_roc'] = roc_auc_score(y_te, y_proba_test)\n",
    "    results['test']['ap'] = average_precision_score(y_te, y_proba_test)\n",
    "    results['test']['brier'] = brier_score_loss(y_te, y_proba_test)\n",
    "\n",
    "    return results"
   ]
  },
  {
   "cell_type": "markdown",
   "id": "05b1ab04",
   "metadata": {
    "papermill": {
     "duration": 0.017238,
     "end_time": "2024-08-28T13:57:59.821059",
     "exception": false,
     "start_time": "2024-08-28T13:57:59.803821",
     "status": "completed"
    },
    "tags": []
   },
   "source": [
    "# 1️⃣st PART : Exploratory Data Analysis (EDA) <a class=\"anchor\"  id=\"part1\"></a>"
   ]
  },
  {
   "cell_type": "markdown",
   "id": "d6f95770",
   "metadata": {
    "papermill": {
     "duration": 0.01785,
     "end_time": "2024-08-28T13:57:59.856525",
     "exception": false,
     "start_time": "2024-08-28T13:57:59.838675",
     "status": "completed"
    },
    "tags": []
   },
   "source": [
    "## 📂 Fraud Overview <a class=\"anchor\"  id=\"section_1_1\"></a>"
   ]
  },
  {
   "cell_type": "code",
   "execution_count": 7,
   "id": "5f111bfe",
   "metadata": {
    "execution": {
     "iopub.execute_input": "2024-08-28T13:57:59.894317Z",
     "iopub.status.busy": "2024-08-28T13:57:59.893315Z",
     "iopub.status.idle": "2024-08-28T13:58:01.478203Z",
     "shell.execute_reply": "2024-08-28T13:58:01.47712Z"
    },
    "papermill": {
     "duration": 1.606983,
     "end_time": "2024-08-28T13:58:01.481353",
     "exception": false,
     "start_time": "2024-08-28T13:57:59.87437",
     "status": "completed"
    },
    "tags": []
   },
   "outputs": [
    {
     "data": {
      "text/html": [
       "<div>\n",
       "<style scoped>\n",
       "    .dataframe tbody tr th:only-of-type {\n",
       "        vertical-align: middle;\n",
       "    }\n",
       "\n",
       "    .dataframe tbody tr th {\n",
       "        vertical-align: top;\n",
       "    }\n",
       "\n",
       "    .dataframe thead th {\n",
       "        text-align: right;\n",
       "    }\n",
       "</style>\n",
       "<table border=\"1\" class=\"dataframe\">\n",
       "  <thead>\n",
       "    <tr style=\"text-align: right;\">\n",
       "      <th></th>\n",
       "      <th>Data Type</th>\n",
       "      <th>Missing Count (#)</th>\n",
       "      <th>Missing Rate (%)</th>\n",
       "      <th>Unique Count (#)</th>\n",
       "      <th>Unique Rate (%)</th>\n",
       "      <th>Duplicates Count (#)</th>\n",
       "      <th>Duplicates Rate (%)</th>\n",
       "    </tr>\n",
       "  </thead>\n",
       "  <tbody>\n",
       "    <tr>\n",
       "      <th>Time</th>\n",
       "      <td>float64</td>\n",
       "      <td>0</td>\n",
       "      <td>0.0</td>\n",
       "      <td>124592</td>\n",
       "      <td>43.75</td>\n",
       "      <td>160215</td>\n",
       "      <td>56.25</td>\n",
       "    </tr>\n",
       "    <tr>\n",
       "      <th>V1</th>\n",
       "      <td>float64</td>\n",
       "      <td>0</td>\n",
       "      <td>0.0</td>\n",
       "      <td>275663</td>\n",
       "      <td>96.79</td>\n",
       "      <td>9144</td>\n",
       "      <td>3.21</td>\n",
       "    </tr>\n",
       "    <tr>\n",
       "      <th>V2</th>\n",
       "      <td>float64</td>\n",
       "      <td>0</td>\n",
       "      <td>0.0</td>\n",
       "      <td>275663</td>\n",
       "      <td>96.79</td>\n",
       "      <td>9144</td>\n",
       "      <td>3.21</td>\n",
       "    </tr>\n",
       "    <tr>\n",
       "      <th>V3</th>\n",
       "      <td>float64</td>\n",
       "      <td>0</td>\n",
       "      <td>0.0</td>\n",
       "      <td>275663</td>\n",
       "      <td>96.79</td>\n",
       "      <td>9144</td>\n",
       "      <td>3.21</td>\n",
       "    </tr>\n",
       "    <tr>\n",
       "      <th>V4</th>\n",
       "      <td>float64</td>\n",
       "      <td>0</td>\n",
       "      <td>0.0</td>\n",
       "      <td>275663</td>\n",
       "      <td>96.79</td>\n",
       "      <td>9144</td>\n",
       "      <td>3.21</td>\n",
       "    </tr>\n",
       "    <tr>\n",
       "      <th>V5</th>\n",
       "      <td>float64</td>\n",
       "      <td>0</td>\n",
       "      <td>0.0</td>\n",
       "      <td>275663</td>\n",
       "      <td>96.79</td>\n",
       "      <td>9144</td>\n",
       "      <td>3.21</td>\n",
       "    </tr>\n",
       "    <tr>\n",
       "      <th>V6</th>\n",
       "      <td>float64</td>\n",
       "      <td>0</td>\n",
       "      <td>0.0</td>\n",
       "      <td>275663</td>\n",
       "      <td>96.79</td>\n",
       "      <td>9144</td>\n",
       "      <td>3.21</td>\n",
       "    </tr>\n",
       "    <tr>\n",
       "      <th>V7</th>\n",
       "      <td>float64</td>\n",
       "      <td>0</td>\n",
       "      <td>0.0</td>\n",
       "      <td>275663</td>\n",
       "      <td>96.79</td>\n",
       "      <td>9144</td>\n",
       "      <td>3.21</td>\n",
       "    </tr>\n",
       "    <tr>\n",
       "      <th>V8</th>\n",
       "      <td>float64</td>\n",
       "      <td>0</td>\n",
       "      <td>0.0</td>\n",
       "      <td>275663</td>\n",
       "      <td>96.79</td>\n",
       "      <td>9144</td>\n",
       "      <td>3.21</td>\n",
       "    </tr>\n",
       "    <tr>\n",
       "      <th>V9</th>\n",
       "      <td>float64</td>\n",
       "      <td>0</td>\n",
       "      <td>0.0</td>\n",
       "      <td>275663</td>\n",
       "      <td>96.79</td>\n",
       "      <td>9144</td>\n",
       "      <td>3.21</td>\n",
       "    </tr>\n",
       "    <tr>\n",
       "      <th>V10</th>\n",
       "      <td>float64</td>\n",
       "      <td>0</td>\n",
       "      <td>0.0</td>\n",
       "      <td>275663</td>\n",
       "      <td>96.79</td>\n",
       "      <td>9144</td>\n",
       "      <td>3.21</td>\n",
       "    </tr>\n",
       "    <tr>\n",
       "      <th>V11</th>\n",
       "      <td>float64</td>\n",
       "      <td>0</td>\n",
       "      <td>0.0</td>\n",
       "      <td>275663</td>\n",
       "      <td>96.79</td>\n",
       "      <td>9144</td>\n",
       "      <td>3.21</td>\n",
       "    </tr>\n",
       "    <tr>\n",
       "      <th>V12</th>\n",
       "      <td>float64</td>\n",
       "      <td>0</td>\n",
       "      <td>0.0</td>\n",
       "      <td>275663</td>\n",
       "      <td>96.79</td>\n",
       "      <td>9144</td>\n",
       "      <td>3.21</td>\n",
       "    </tr>\n",
       "    <tr>\n",
       "      <th>V13</th>\n",
       "      <td>float64</td>\n",
       "      <td>0</td>\n",
       "      <td>0.0</td>\n",
       "      <td>275663</td>\n",
       "      <td>96.79</td>\n",
       "      <td>9144</td>\n",
       "      <td>3.21</td>\n",
       "    </tr>\n",
       "    <tr>\n",
       "      <th>V14</th>\n",
       "      <td>float64</td>\n",
       "      <td>0</td>\n",
       "      <td>0.0</td>\n",
       "      <td>275663</td>\n",
       "      <td>96.79</td>\n",
       "      <td>9144</td>\n",
       "      <td>3.21</td>\n",
       "    </tr>\n",
       "    <tr>\n",
       "      <th>V15</th>\n",
       "      <td>float64</td>\n",
       "      <td>0</td>\n",
       "      <td>0.0</td>\n",
       "      <td>275663</td>\n",
       "      <td>96.79</td>\n",
       "      <td>9144</td>\n",
       "      <td>3.21</td>\n",
       "    </tr>\n",
       "    <tr>\n",
       "      <th>V16</th>\n",
       "      <td>float64</td>\n",
       "      <td>0</td>\n",
       "      <td>0.0</td>\n",
       "      <td>275663</td>\n",
       "      <td>96.79</td>\n",
       "      <td>9144</td>\n",
       "      <td>3.21</td>\n",
       "    </tr>\n",
       "    <tr>\n",
       "      <th>V17</th>\n",
       "      <td>float64</td>\n",
       "      <td>0</td>\n",
       "      <td>0.0</td>\n",
       "      <td>275663</td>\n",
       "      <td>96.79</td>\n",
       "      <td>9144</td>\n",
       "      <td>3.21</td>\n",
       "    </tr>\n",
       "    <tr>\n",
       "      <th>V18</th>\n",
       "      <td>float64</td>\n",
       "      <td>0</td>\n",
       "      <td>0.0</td>\n",
       "      <td>275663</td>\n",
       "      <td>96.79</td>\n",
       "      <td>9144</td>\n",
       "      <td>3.21</td>\n",
       "    </tr>\n",
       "    <tr>\n",
       "      <th>V19</th>\n",
       "      <td>float64</td>\n",
       "      <td>0</td>\n",
       "      <td>0.0</td>\n",
       "      <td>275663</td>\n",
       "      <td>96.79</td>\n",
       "      <td>9144</td>\n",
       "      <td>3.21</td>\n",
       "    </tr>\n",
       "    <tr>\n",
       "      <th>V20</th>\n",
       "      <td>float64</td>\n",
       "      <td>0</td>\n",
       "      <td>0.0</td>\n",
       "      <td>275663</td>\n",
       "      <td>96.79</td>\n",
       "      <td>9144</td>\n",
       "      <td>3.21</td>\n",
       "    </tr>\n",
       "    <tr>\n",
       "      <th>V21</th>\n",
       "      <td>float64</td>\n",
       "      <td>0</td>\n",
       "      <td>0.0</td>\n",
       "      <td>275663</td>\n",
       "      <td>96.79</td>\n",
       "      <td>9144</td>\n",
       "      <td>3.21</td>\n",
       "    </tr>\n",
       "    <tr>\n",
       "      <th>V22</th>\n",
       "      <td>float64</td>\n",
       "      <td>0</td>\n",
       "      <td>0.0</td>\n",
       "      <td>275663</td>\n",
       "      <td>96.79</td>\n",
       "      <td>9144</td>\n",
       "      <td>3.21</td>\n",
       "    </tr>\n",
       "    <tr>\n",
       "      <th>V23</th>\n",
       "      <td>float64</td>\n",
       "      <td>0</td>\n",
       "      <td>0.0</td>\n",
       "      <td>275663</td>\n",
       "      <td>96.79</td>\n",
       "      <td>9144</td>\n",
       "      <td>3.21</td>\n",
       "    </tr>\n",
       "    <tr>\n",
       "      <th>V24</th>\n",
       "      <td>float64</td>\n",
       "      <td>0</td>\n",
       "      <td>0.0</td>\n",
       "      <td>275663</td>\n",
       "      <td>96.79</td>\n",
       "      <td>9144</td>\n",
       "      <td>3.21</td>\n",
       "    </tr>\n",
       "    <tr>\n",
       "      <th>V25</th>\n",
       "      <td>float64</td>\n",
       "      <td>0</td>\n",
       "      <td>0.0</td>\n",
       "      <td>275663</td>\n",
       "      <td>96.79</td>\n",
       "      <td>9144</td>\n",
       "      <td>3.21</td>\n",
       "    </tr>\n",
       "    <tr>\n",
       "      <th>V26</th>\n",
       "      <td>float64</td>\n",
       "      <td>0</td>\n",
       "      <td>0.0</td>\n",
       "      <td>275663</td>\n",
       "      <td>96.79</td>\n",
       "      <td>9144</td>\n",
       "      <td>3.21</td>\n",
       "    </tr>\n",
       "    <tr>\n",
       "      <th>V27</th>\n",
       "      <td>float64</td>\n",
       "      <td>0</td>\n",
       "      <td>0.0</td>\n",
       "      <td>275663</td>\n",
       "      <td>96.79</td>\n",
       "      <td>9144</td>\n",
       "      <td>3.21</td>\n",
       "    </tr>\n",
       "    <tr>\n",
       "      <th>V28</th>\n",
       "      <td>float64</td>\n",
       "      <td>0</td>\n",
       "      <td>0.0</td>\n",
       "      <td>275663</td>\n",
       "      <td>96.79</td>\n",
       "      <td>9144</td>\n",
       "      <td>3.21</td>\n",
       "    </tr>\n",
       "    <tr>\n",
       "      <th>Amount</th>\n",
       "      <td>float64</td>\n",
       "      <td>0</td>\n",
       "      <td>0.0</td>\n",
       "      <td>32767</td>\n",
       "      <td>11.50</td>\n",
       "      <td>252040</td>\n",
       "      <td>88.50</td>\n",
       "    </tr>\n",
       "    <tr>\n",
       "      <th>Class</th>\n",
       "      <td>int64</td>\n",
       "      <td>0</td>\n",
       "      <td>0.0</td>\n",
       "      <td>2</td>\n",
       "      <td>0.00</td>\n",
       "      <td>284805</td>\n",
       "      <td>100.00</td>\n",
       "    </tr>\n",
       "    <tr>\n",
       "      <th>Time_Hours</th>\n",
       "      <td>float64</td>\n",
       "      <td>0</td>\n",
       "      <td>0.0</td>\n",
       "      <td>124592</td>\n",
       "      <td>43.75</td>\n",
       "      <td>160215</td>\n",
       "      <td>56.25</td>\n",
       "    </tr>\n",
       "    <tr>\n",
       "      <th>Time_Days</th>\n",
       "      <td>float64</td>\n",
       "      <td>0</td>\n",
       "      <td>0.0</td>\n",
       "      <td>124592</td>\n",
       "      <td>43.75</td>\n",
       "      <td>160215</td>\n",
       "      <td>56.25</td>\n",
       "    </tr>\n",
       "    <tr>\n",
       "      <th>Hour_of_Day</th>\n",
       "      <td>float64</td>\n",
       "      <td>0</td>\n",
       "      <td>0.0</td>\n",
       "      <td>74698</td>\n",
       "      <td>26.23</td>\n",
       "      <td>210109</td>\n",
       "      <td>73.77</td>\n",
       "    </tr>\n",
       "    <tr>\n",
       "      <th>Hour_sin</th>\n",
       "      <td>float64</td>\n",
       "      <td>0</td>\n",
       "      <td>0.0</td>\n",
       "      <td>69231</td>\n",
       "      <td>24.31</td>\n",
       "      <td>215576</td>\n",
       "      <td>75.69</td>\n",
       "    </tr>\n",
       "    <tr>\n",
       "      <th>Hour_cos</th>\n",
       "      <td>float64</td>\n",
       "      <td>0</td>\n",
       "      <td>0.0</td>\n",
       "      <td>68507</td>\n",
       "      <td>24.05</td>\n",
       "      <td>216300</td>\n",
       "      <td>75.95</td>\n",
       "    </tr>\n",
       "  </tbody>\n",
       "</table>\n",
       "</div>"
      ],
      "text/plain": [
       "            Data Type  Missing Count (#)  Missing Rate (%)  Unique Count (#)  \\\n",
       "Time          float64                  0               0.0            124592   \n",
       "V1            float64                  0               0.0            275663   \n",
       "V2            float64                  0               0.0            275663   \n",
       "V3            float64                  0               0.0            275663   \n",
       "V4            float64                  0               0.0            275663   \n",
       "V5            float64                  0               0.0            275663   \n",
       "V6            float64                  0               0.0            275663   \n",
       "V7            float64                  0               0.0            275663   \n",
       "V8            float64                  0               0.0            275663   \n",
       "V9            float64                  0               0.0            275663   \n",
       "V10           float64                  0               0.0            275663   \n",
       "V11           float64                  0               0.0            275663   \n",
       "V12           float64                  0               0.0            275663   \n",
       "V13           float64                  0               0.0            275663   \n",
       "V14           float64                  0               0.0            275663   \n",
       "V15           float64                  0               0.0            275663   \n",
       "V16           float64                  0               0.0            275663   \n",
       "V17           float64                  0               0.0            275663   \n",
       "V18           float64                  0               0.0            275663   \n",
       "V19           float64                  0               0.0            275663   \n",
       "V20           float64                  0               0.0            275663   \n",
       "V21           float64                  0               0.0            275663   \n",
       "V22           float64                  0               0.0            275663   \n",
       "V23           float64                  0               0.0            275663   \n",
       "V24           float64                  0               0.0            275663   \n",
       "V25           float64                  0               0.0            275663   \n",
       "V26           float64                  0               0.0            275663   \n",
       "V27           float64                  0               0.0            275663   \n",
       "V28           float64                  0               0.0            275663   \n",
       "Amount        float64                  0               0.0             32767   \n",
       "Class           int64                  0               0.0                 2   \n",
       "Time_Hours    float64                  0               0.0            124592   \n",
       "Time_Days     float64                  0               0.0            124592   \n",
       "Hour_of_Day   float64                  0               0.0             74698   \n",
       "Hour_sin      float64                  0               0.0             69231   \n",
       "Hour_cos      float64                  0               0.0             68507   \n",
       "\n",
       "             Unique Rate (%)  Duplicates Count (#)  Duplicates Rate (%)  \n",
       "Time                   43.75                160215                56.25  \n",
       "V1                     96.79                  9144                 3.21  \n",
       "V2                     96.79                  9144                 3.21  \n",
       "V3                     96.79                  9144                 3.21  \n",
       "V4                     96.79                  9144                 3.21  \n",
       "V5                     96.79                  9144                 3.21  \n",
       "V6                     96.79                  9144                 3.21  \n",
       "V7                     96.79                  9144                 3.21  \n",
       "V8                     96.79                  9144                 3.21  \n",
       "V9                     96.79                  9144                 3.21  \n",
       "V10                    96.79                  9144                 3.21  \n",
       "V11                    96.79                  9144                 3.21  \n",
       "V12                    96.79                  9144                 3.21  \n",
       "V13                    96.79                  9144                 3.21  \n",
       "V14                    96.79                  9144                 3.21  \n",
       "V15                    96.79                  9144                 3.21  \n",
       "V16                    96.79                  9144                 3.21  \n",
       "V17                    96.79                  9144                 3.21  \n",
       "V18                    96.79                  9144                 3.21  \n",
       "V19                    96.79                  9144                 3.21  \n",
       "V20                    96.79                  9144                 3.21  \n",
       "V21                    96.79                  9144                 3.21  \n",
       "V22                    96.79                  9144                 3.21  \n",
       "V23                    96.79                  9144                 3.21  \n",
       "V24                    96.79                  9144                 3.21  \n",
       "V25                    96.79                  9144                 3.21  \n",
       "V26                    96.79                  9144                 3.21  \n",
       "V27                    96.79                  9144                 3.21  \n",
       "V28                    96.79                  9144                 3.21  \n",
       "Amount                 11.50                252040                88.50  \n",
       "Class                   0.00                284805               100.00  \n",
       "Time_Hours             43.75                160215                56.25  \n",
       "Time_Days              43.75                160215                56.25  \n",
       "Hour_of_Day            26.23                210109                73.77  \n",
       "Hour_sin               24.31                215576                75.69  \n",
       "Hour_cos               24.05                216300                75.95  "
      ]
     },
     "execution_count": 7,
     "metadata": {},
     "output_type": "execute_result"
    }
   ],
   "source": [
    "# --- Get basic statistics ---\n",
    "pd.DataFrame(\n",
    "    {\n",
    "        'Data Type': creditcard.dtypes,\n",
    "        'Missing Count (#)': creditcard.isnull().sum(),\n",
    "        'Missing Rate (%)': 100 * creditcard.isnull().mean(),\n",
    "        'Unique Count (#)': creditcard.nunique(),\n",
    "        'Unique Rate (%)': round(100 * creditcard.nunique() / creditcard.shape[0], 2),\n",
    "        'Duplicates Count (#)': [creditcard[c].duplicated().sum() for c in creditcard.columns],\n",
    "        'Duplicates Rate (%)': [round(100 * creditcard[c].duplicated().sum() / creditcard.shape[0], 2) for c in creditcard.columns],\n",
    "    }\n",
    ")"
   ]
  },
  {
   "cell_type": "markdown",
   "id": "ccd45705",
   "metadata": {
    "papermill": {
     "duration": 0.018542,
     "end_time": "2024-08-28T13:58:01.518848",
     "exception": false,
     "start_time": "2024-08-28T13:58:01.500306",
     "status": "completed"
    },
    "tags": []
   },
   "source": [
    "There are no missing values in the dataset 😊. "
   ]
  },
  {
   "cell_type": "code",
   "execution_count": 8,
   "id": "50ba0dbb",
   "metadata": {
    "execution": {
     "iopub.execute_input": "2024-08-28T13:58:01.558091Z",
     "iopub.status.busy": "2024-08-28T13:58:01.557128Z",
     "iopub.status.idle": "2024-08-28T13:58:01.577426Z",
     "shell.execute_reply": "2024-08-28T13:58:01.576438Z"
    },
    "papermill": {
     "duration": 0.042527,
     "end_time": "2024-08-28T13:58:01.579664",
     "exception": false,
     "start_time": "2024-08-28T13:58:01.537137",
     "status": "completed"
    },
    "tags": []
   },
   "outputs": [
    {
     "data": {
      "text/html": [
       "<div>\n",
       "<style scoped>\n",
       "    .dataframe tbody tr th:only-of-type {\n",
       "        vertical-align: middle;\n",
       "    }\n",
       "\n",
       "    .dataframe tbody tr th {\n",
       "        vertical-align: top;\n",
       "    }\n",
       "\n",
       "    .dataframe thead th {\n",
       "        text-align: right;\n",
       "    }\n",
       "</style>\n",
       "<table border=\"1\" class=\"dataframe\">\n",
       "  <thead>\n",
       "    <tr style=\"text-align: right;\">\n",
       "      <th></th>\n",
       "      <th>Metric</th>\n",
       "      <th>Value</th>\n",
       "    </tr>\n",
       "  </thead>\n",
       "  <tbody>\n",
       "    <tr>\n",
       "      <th>0</th>\n",
       "      <td>Number of Genuine</td>\n",
       "      <td>284315.000000</td>\n",
       "    </tr>\n",
       "    <tr>\n",
       "      <th>1</th>\n",
       "      <td>Number of Fraud</td>\n",
       "      <td>492.000000</td>\n",
       "    </tr>\n",
       "    <tr>\n",
       "      <th>2</th>\n",
       "      <td>Genuine Rate (%)</td>\n",
       "      <td>99.827251</td>\n",
       "    </tr>\n",
       "    <tr>\n",
       "      <th>3</th>\n",
       "      <td>Fraud Rate (%)</td>\n",
       "      <td>0.172749</td>\n",
       "    </tr>\n",
       "  </tbody>\n",
       "</table>\n",
       "</div>"
      ],
      "text/plain": [
       "              Metric          Value\n",
       "0  Number of Genuine  284315.000000\n",
       "1    Number of Fraud     492.000000\n",
       "2   Genuine Rate (%)      99.827251\n",
       "3     Fraud Rate (%)       0.172749"
      ]
     },
     "execution_count": 8,
     "metadata": {},
     "output_type": "execute_result"
    }
   ],
   "source": [
    "# --- Understand overall fraud behavior ---\n",
    "100*creditcard[TARGET].value_counts(normalize=True)\n",
    "\n",
    "overall_fraud_count = creditcard[TARGET].sum()\n",
    "overall_fraud_rate = overall_fraud_count / creditcard.shape[0]\n",
    "non_fraud_count = creditcard.shape[0] - overall_fraud_count\n",
    "overall_non_fraud_rate = non_fraud_count / creditcard.shape[0]\n",
    "\n",
    "pd.DataFrame({\n",
    "    'Metric': ['Number of Genuine', 'Number of Fraud', 'Genuine Rate (%)', 'Fraud Rate (%)'],\n",
    "    'Value': [non_fraud_count, overall_fraud_count, 100*overall_non_fraud_rate, 100*overall_fraud_rate]\n",
    "})"
   ]
  },
  {
   "cell_type": "markdown",
   "id": "1f678f96",
   "metadata": {
    "papermill": {
     "duration": 0.018858,
     "end_time": "2024-08-28T13:58:01.61775",
     "exception": false,
     "start_time": "2024-08-28T13:58:01.598892",
     "status": "completed"
    },
    "tags": []
   },
   "source": [
    "The dataset is __highly imbalanced__. It contains only 492 fraudulent transactions, which results in an __overall fraud rate of 0.173%__. Consequently 99.8% of all transactions are genuine. Therefore, later we need to perform some techniques to handle this imbalance. "
   ]
  },
  {
   "cell_type": "code",
   "execution_count": 9,
   "id": "b9be0971",
   "metadata": {
    "execution": {
     "iopub.execute_input": "2024-08-28T13:58:01.659167Z",
     "iopub.status.busy": "2024-08-28T13:58:01.658737Z",
     "iopub.status.idle": "2024-08-28T13:58:02.180916Z",
     "shell.execute_reply": "2024-08-28T13:58:02.179794Z"
    },
    "papermill": {
     "duration": 0.545548,
     "end_time": "2024-08-28T13:58:02.183884",
     "exception": false,
     "start_time": "2024-08-28T13:58:01.638336",
     "status": "completed"
    },
    "tags": []
   },
   "outputs": [
    {
     "data": {
      "image/png": "[encoded data removed]",
      "text/plain": [
       "<Figure size 800x300 with 1 Axes>"
      ]
     },
     "metadata": {},
     "output_type": "display_data"
    }
   ],
   "source": [
    "# --------- #\n",
    "# Preparing #\n",
    "# --------- #\n",
    "\n",
    "creditcard['Hour'] = creditcard['Time'] // 3_600 % 24\n",
    "hourly_fraud_rate = creditcard.groupby('Hour')['Class'].mean().reset_index()\n",
    "overall_fraud_rate = creditcard['Class'].mean() * 100\n",
    "hourly_fraud_rate['Class'] *= 100\n",
    "\n",
    "\n",
    "# -------- #\n",
    "# Plotting #\n",
    "# -------- #\n",
    "\n",
    "plt.figure(figsize=(8, 3))\n",
    "plt.axhline(y=overall_fraud_rate, color='C2', linestyle='--', label='Overall Fraud Rate')\n",
    "plt.plot(hourly_fraud_rate['Hour'], hourly_fraud_rate['Class'], \n",
    "         linestyle='-', marker='o', markerfacecolor='white', markeredgewidth=1.5, color='C0', label='Hourly Fraud Rate')\n",
    "plt.title('Fraud Rate Per Hour', fontsize=13)\n",
    "plt.xlabel('Hour of Day')\n",
    "plt.ylabel('Fraud Rate in %')\n",
    "plt.xticks(range(0, 24))\n",
    "plt.legend()\n",
    "plt.grid(False)\n",
    "plt.tight_layout()\n",
    "plt.show()"
   ]
  },
  {
   "cell_type": "markdown",
   "id": "ccb9f558",
   "metadata": {
    "papermill": {
     "duration": 0.01955,
     "end_time": "2024-08-28T13:58:02.223597",
     "exception": false,
     "start_time": "2024-08-28T13:58:02.204047",
     "status": "completed"
    },
    "tags": []
   },
   "source": [
    "__Observations__\n",
    "\n",
    "- The dataset consists of roughly 24 hours of data.\n",
    "- In the 2nd hour after the first transaction the fraud fraud is the highest, having a value of nearly 1.75%. \n",
    "- The hourly fraud rates stabilizes after the 8th hour.\n",
    "\n",
    "__Insights__\n",
    "\n",
    "> Most fraud happened in the early morning between 2am and 4am."
   ]
  },
  {
   "cell_type": "code",
   "execution_count": 10,
   "id": "38016b98",
   "metadata": {
    "execution": {
     "iopub.execute_input": "2024-08-28T13:58:02.266073Z",
     "iopub.status.busy": "2024-08-28T13:58:02.265615Z",
     "iopub.status.idle": "2024-08-28T13:58:02.700079Z",
     "shell.execute_reply": "2024-08-28T13:58:02.698918Z"
    },
    "papermill": {
     "duration": 0.458649,
     "end_time": "2024-08-28T13:58:02.703022",
     "exception": false,
     "start_time": "2024-08-28T13:58:02.244373",
     "status": "completed"
    },
    "tags": []
   },
   "outputs": [
    {
     "data": {
      "image/png": "[encoded data removed]",
      "text/plain": [
       "<Figure size 1000x300 with 1 Axes>"
      ]
     },
     "metadata": {},
     "output_type": "display_data"
    }
   ],
   "source": [
    "# --------- #\n",
    "# Preparing #\n",
    "# --------- #\n",
    "\n",
    "creditcard['Minute'] = (creditcard['Time'] // 60) % 1440\n",
    "minute_fraud_rate = creditcard.groupby('Minute')['Class'].mean().reset_index()\n",
    "minute_fraud_rate['Class'] *= 100\n",
    "\n",
    "\n",
    "# -------- #\n",
    "# Plotting #\n",
    "# -------- #\n",
    "\n",
    "plt.figure(figsize=(10, 3))\n",
    "\n",
    "plt.plot(minute_fraud_rate['Minute'], minute_fraud_rate['Class'], linestyle='-', color='C0', \n",
    "         label='Fraud Rate per Minute', alpha=0.7)\n",
    "plt.title('Fraud Rate Per Minute', fontsize=13)\n",
    "plt.xlabel('Time (Minutes of Day)')\n",
    "plt.ylabel('Fraud Rate in %')\n",
    "plt.legend()\n",
    "plt.grid(False)\n",
    "plt.tight_layout()\n",
    "\n",
    "plt.show()"
   ]
  },
  {
   "cell_type": "markdown",
   "id": "37f52967",
   "metadata": {
    "papermill": {
     "duration": 0.019985,
     "end_time": "2024-08-28T13:58:02.743875",
     "exception": false,
     "start_time": "2024-08-28T13:58:02.72389",
     "status": "completed"
    },
    "tags": []
   },
   "source": [
    "## 💸 Amount <a class=\"anchor\"  id=\"section_1_2\"></a>\n",
    "\n",
    "In this subsection we are going to investigate the amount column `Amount`."
   ]
  },
  {
   "cell_type": "code",
   "execution_count": 11,
   "id": "2a158898",
   "metadata": {
    "execution": {
     "iopub.execute_input": "2024-08-28T13:58:02.786832Z",
     "iopub.status.busy": "2024-08-28T13:58:02.7858Z",
     "iopub.status.idle": "2024-08-28T13:58:03.026551Z",
     "shell.execute_reply": "2024-08-28T13:58:03.025427Z"
    },
    "papermill": {
     "duration": 0.264832,
     "end_time": "2024-08-28T13:58:03.029096",
     "exception": false,
     "start_time": "2024-08-28T13:58:02.764264",
     "status": "completed"
    },
    "tags": []
   },
   "outputs": [
    {
     "data": {
      "image/png": "[encoded data removed]",
      "text/plain": [
       "<Figure size 500x300 with 1 Axes>"
      ]
     },
     "metadata": {},
     "output_type": "display_data"
    }
   ],
   "source": [
    "fig, axes = plt.subplots(figsize=(5, 3))\n",
    "\n",
    "sns.boxplot(data=creditcard, x=TARGET, y=MONEY,\n",
    "            linewidth=2, width=0.5, showfliers=False, ax=axes)\n",
    "axes.set_title('Transaction Amount Distribution')\n",
    "axes.set_xlabel('')\n",
    "axes.set_ylabel('Transaction Amount')\n",
    "axes.set_xticklabels(LABELS)\n",
    "\n",
    "plt.tight_layout()\n",
    "plt.show()"
   ]
  },
  {
   "cell_type": "code",
   "execution_count": 12,
   "id": "0356e626",
   "metadata": {
    "execution": {
     "iopub.execute_input": "2024-08-28T13:58:03.073661Z",
     "iopub.status.busy": "2024-08-28T13:58:03.072895Z",
     "iopub.status.idle": "2024-08-28T13:58:04.946507Z",
     "shell.execute_reply": "2024-08-28T13:58:04.945395Z"
    },
    "papermill": {
     "duration": 1.89856,
     "end_time": "2024-08-28T13:58:04.94898",
     "exception": false,
     "start_time": "2024-08-28T13:58:03.05042",
     "status": "completed"
    },
    "tags": []
   },
   "outputs": [
    {
     "data": {
      "image/png": "[encoded data removed]",
      "text/plain": [
       "<Figure size 1200x300 with 1 Axes>"
      ]
     },
     "metadata": {},
     "output_type": "display_data"
    }
   ],
   "source": [
    "plt.figure(figsize=(12, 3))\n",
    "\n",
    "sns.boxplot(data=creditcard, x='Hour', y=MONEY, hue=TARGET, linewidth=2, width=0.5, showfliers=False)\n",
    "plt.title('Transaction Amount Distribution per Hour')\n",
    "plt.xlabel('Hour')\n",
    "plt.ylabel('Transaction Amount')\n",
    "\n",
    "handles, labels = plt.gca().get_legend_handles_labels()\n",
    "labels = ['Genuine' if label == '0' else 'Fraudulent' for label in labels]\n",
    "plt.legend(handles, labels, title='Transaction Type')\n",
    "\n",
    "plt.xticks(ticks=plt.xticks()[0], labels=[int(x) for x in plt.xticks()[0]])\n",
    "plt.grid(True, axis='y', alpha=0.3)\n",
    "\n",
    "plt.show()"
   ]
  },
  {
   "cell_type": "markdown",
   "id": "dec8f04e",
   "metadata": {
    "papermill": {
     "duration": 0.021047,
     "end_time": "2024-08-28T13:58:04.99189",
     "exception": false,
     "start_time": "2024-08-28T13:58:04.970843",
     "status": "completed"
    },
    "tags": []
   },
   "source": [
    "## 🧰 Pre-Processing <a class=\"anchor\"  id=\"section_1_3\"></a>\n",
    "\n",
    "Before we build some machine learning models we need to preapre our data. We will use a \n",
    "\n",
    "- `train` set to train our basic model parameters\n",
    "- `validation` set to use as validation during cross validation and to tune our hyperparameters\n",
    "- `test` as \"simulation\" for actual data, thus, we are going to do nothing else other then predicting on that set after we trained our model\n",
    "\n",
    "We need to be aware of a couple points when working with time-dependent data.\n",
    "\n",
    "1. 🚨 When performing the `train`-`test`-split we need to split by time. Otherwise, we would train on future data which is not how reality works. We should therefore only predict on data which is time-wise __after__ our training data.\n",
    "2. 🚨 When performing cross validation we need to perform time dependent time series splits. A great library to do that is sklearn's [TimeSeriesSplit](https://scikit-learn.org/stable/modules/generated/sklearn.model_selection.TimeSeriesSplit.html). The reason for that is the same as for point 1, we simply don't want to tune our hyperparameters on future data, which would be the case if we would use classical cross validation techniques like [GridSearch](https://scikit-learn.org/stable/modules/generated/sklearn.model_selection.GridSearchCV.html) of [RandomSearch](https://scikit-learn.org/stable/modules/generated/sklearn.model_selection.RandomizedSearchCV.html). "
   ]
  },
  {
   "cell_type": "code",
   "execution_count": 13,
   "id": "a392d66c",
   "metadata": {
    "execution": {
     "iopub.execute_input": "2024-08-28T13:58:05.036979Z",
     "iopub.status.busy": "2024-08-28T13:58:05.036526Z",
     "iopub.status.idle": "2024-08-28T13:58:05.06389Z",
     "shell.execute_reply": "2024-08-28T13:58:05.062906Z"
    },
    "papermill": {
     "duration": 0.052795,
     "end_time": "2024-08-28T13:58:05.06624",
     "exception": false,
     "start_time": "2024-08-28T13:58:05.013445",
     "status": "completed"
    },
    "tags": []
   },
   "outputs": [
    {
     "data": {
      "text/html": [
       "<div>\n",
       "<style scoped>\n",
       "    .dataframe tbody tr th:only-of-type {\n",
       "        vertical-align: middle;\n",
       "    }\n",
       "\n",
       "    .dataframe tbody tr th {\n",
       "        vertical-align: top;\n",
       "    }\n",
       "\n",
       "    .dataframe thead th {\n",
       "        text-align: right;\n",
       "    }\n",
       "</style>\n",
       "<table border=\"1\" class=\"dataframe\">\n",
       "  <thead>\n",
       "    <tr style=\"text-align: right;\">\n",
       "      <th></th>\n",
       "      <th>Time</th>\n",
       "      <th>V1</th>\n",
       "      <th>V2</th>\n",
       "      <th>V3</th>\n",
       "      <th>V4</th>\n",
       "      <th>V5</th>\n",
       "      <th>V6</th>\n",
       "      <th>V7</th>\n",
       "      <th>V8</th>\n",
       "      <th>V9</th>\n",
       "      <th>...</th>\n",
       "      <th>V28</th>\n",
       "      <th>Amount</th>\n",
       "      <th>Class</th>\n",
       "      <th>Time_Hours</th>\n",
       "      <th>Time_Days</th>\n",
       "      <th>Hour_of_Day</th>\n",
       "      <th>Hour_sin</th>\n",
       "      <th>Hour_cos</th>\n",
       "      <th>Hour</th>\n",
       "      <th>Minute</th>\n",
       "    </tr>\n",
       "  </thead>\n",
       "  <tbody>\n",
       "    <tr>\n",
       "      <th>0</th>\n",
       "      <td>0.0</td>\n",
       "      <td>-1.359807</td>\n",
       "      <td>-0.072781</td>\n",
       "      <td>2.536347</td>\n",
       "      <td>1.378155</td>\n",
       "      <td>-0.338321</td>\n",
       "      <td>0.462388</td>\n",
       "      <td>0.239599</td>\n",
       "      <td>0.098698</td>\n",
       "      <td>0.363787</td>\n",
       "      <td>...</td>\n",
       "      <td>-0.021053</td>\n",
       "      <td>149.62</td>\n",
       "      <td>0</td>\n",
       "      <td>0.000000</td>\n",
       "      <td>0.000000</td>\n",
       "      <td>0.000000</td>\n",
       "      <td>0.000000</td>\n",
       "      <td>1.0</td>\n",
       "      <td>0.0</td>\n",
       "      <td>0.0</td>\n",
       "    </tr>\n",
       "    <tr>\n",
       "      <th>1</th>\n",
       "      <td>0.0</td>\n",
       "      <td>1.191857</td>\n",
       "      <td>0.266151</td>\n",
       "      <td>0.166480</td>\n",
       "      <td>0.448154</td>\n",
       "      <td>0.060018</td>\n",
       "      <td>-0.082361</td>\n",
       "      <td>-0.078803</td>\n",
       "      <td>0.085102</td>\n",
       "      <td>-0.255425</td>\n",
       "      <td>...</td>\n",
       "      <td>0.014724</td>\n",
       "      <td>2.69</td>\n",
       "      <td>0</td>\n",
       "      <td>0.000000</td>\n",
       "      <td>0.000000</td>\n",
       "      <td>0.000000</td>\n",
       "      <td>0.000000</td>\n",
       "      <td>1.0</td>\n",
       "      <td>0.0</td>\n",
       "      <td>0.0</td>\n",
       "    </tr>\n",
       "    <tr>\n",
       "      <th>2</th>\n",
       "      <td>1.0</td>\n",
       "      <td>-1.358354</td>\n",
       "      <td>-1.340163</td>\n",
       "      <td>1.773209</td>\n",
       "      <td>0.379780</td>\n",
       "      <td>-0.503198</td>\n",
       "      <td>1.800499</td>\n",
       "      <td>0.791461</td>\n",
       "      <td>0.247676</td>\n",
       "      <td>-1.514654</td>\n",
       "      <td>...</td>\n",
       "      <td>-0.059752</td>\n",
       "      <td>378.66</td>\n",
       "      <td>0</td>\n",
       "      <td>0.000278</td>\n",
       "      <td>0.000012</td>\n",
       "      <td>0.000278</td>\n",
       "      <td>0.000073</td>\n",
       "      <td>1.0</td>\n",
       "      <td>0.0</td>\n",
       "      <td>0.0</td>\n",
       "    </tr>\n",
       "  </tbody>\n",
       "</table>\n",
       "<p>3 rows × 38 columns</p>\n",
       "</div>"
      ],
      "text/plain": [
       "   Time        V1        V2        V3        V4        V5        V6        V7  \\\n",
       "0   0.0 -1.359807 -0.072781  2.536347  1.378155 -0.338321  0.462388  0.239599   \n",
       "1   0.0  1.191857  0.266151  0.166480  0.448154  0.060018 -0.082361 -0.078803   \n",
       "2   1.0 -1.358354 -1.340163  1.773209  0.379780 -0.503198  1.800499  0.791461   \n",
       "\n",
       "         V8        V9  ...       V28  Amount  Class  Time_Hours  Time_Days  \\\n",
       "0  0.098698  0.363787  ... -0.021053  149.62      0    0.000000   0.000000   \n",
       "1  0.085102 -0.255425  ...  0.014724    2.69      0    0.000000   0.000000   \n",
       "2  0.247676 -1.514654  ... -0.059752  378.66      0    0.000278   0.000012   \n",
       "\n",
       "   Hour_of_Day  Hour_sin  Hour_cos  Hour  Minute  \n",
       "0     0.000000  0.000000       1.0   0.0     0.0  \n",
       "1     0.000000  0.000000       1.0   0.0     0.0  \n",
       "2     0.000278  0.000073       1.0   0.0     0.0  \n",
       "\n",
       "[3 rows x 38 columns]"
      ]
     },
     "execution_count": 13,
     "metadata": {},
     "output_type": "execute_result"
    }
   ],
   "source": [
    "creditcard.head(3)"
   ]
  },
  {
   "cell_type": "code",
   "execution_count": 14,
   "id": "b75f57c2",
   "metadata": {
    "execution": {
     "iopub.execute_input": "2024-08-28T13:58:05.112794Z",
     "iopub.status.busy": "2024-08-28T13:58:05.111817Z",
     "iopub.status.idle": "2024-08-28T13:58:05.343773Z",
     "shell.execute_reply": "2024-08-28T13:58:05.34279Z"
    },
    "papermill": {
     "duration": 0.258099,
     "end_time": "2024-08-28T13:58:05.346135",
     "exception": false,
     "start_time": "2024-08-28T13:58:05.088036",
     "status": "completed"
    },
    "tags": []
   },
   "outputs": [
    {
     "name": "stdout",
     "output_type": "stream",
     "text": [
      "Statistics\n",
      "==========\n",
      "    TRAIN\n",
      "          Rows:  240,725 (84.52 %)\n",
      "        Frauds:      446  (0.1853 %) = 90.6504 % of all frauds\n",
      "    TEST\n",
      "          Rows:   44,082 (15.48 %)\n",
      "        Frauds:       46  (0.1044 %) = 9.3496 % of all frauds\n",
      "\n"
     ]
    }
   ],
   "source": [
    "# ------------------------------- #\n",
    "# Split dataset in TRAIN and TEST #\n",
    "# ------------------------------- #\n",
    "\n",
    "creditcard = creditcard.sort_values(by='Hour').reset_index(drop=True)\n",
    "\n",
    "# Predict everything after the split_hour.\n",
    "split_hour = 20\n",
    "\n",
    "train = creditcard[creditcard['Hour'] <= split_hour]\n",
    "test = creditcard[creditcard['Hour'] > split_hour]\n",
    "\n",
    "N_train, N_test = train.shape[0], test.shape[0]\n",
    "N_total = N_train + N_test\n",
    "pct_train, pct_test = 100 * N_train / N_total, 100 * N_test / N_total\n",
    "frauds_train, frauds_test = train[train['Class']==1].shape[0], test[test['Class']==1].shape[0]\n",
    "\n",
    "print(f\"\"\"Statistics\n",
    "==========\n",
    "{4*' '}TRAIN\n",
    "{8*' '}  Rows: {N_train:8,} ({pct_train:0.2f} %)\n",
    "{8*' '}Frauds: {frauds_train:8,}  ({100*frauds_train/N_train:0.4f} %) = {100*frauds_train/(frauds_train+frauds_test):0.4f} % of all frauds\n",
    "{4*' '}TEST\n",
    "{8*' '}  Rows: {N_test:8,} ({pct_test:0.2f} %)\n",
    "{8*' '}Frauds: {frauds_test:8,}  ({100*frauds_test/N_test:0.4f} %) = {100*frauds_test/(frauds_train+frauds_test):0.4f} % of all frauds\n",
    "\"\"\")"
   ]
  },
  {
   "cell_type": "code",
   "execution_count": 15,
   "id": "efd4d52c",
   "metadata": {
    "execution": {
     "iopub.execute_input": "2024-08-28T13:58:05.391965Z",
     "iopub.status.busy": "2024-08-28T13:58:05.391094Z",
     "iopub.status.idle": "2024-08-28T13:58:05.886885Z",
     "shell.execute_reply": "2024-08-28T13:58:05.885714Z"
    },
    "papermill": {
     "duration": 0.522237,
     "end_time": "2024-08-28T13:58:05.889822",
     "exception": false,
     "start_time": "2024-08-28T13:58:05.367585",
     "status": "completed"
    },
    "tags": []
   },
   "outputs": [
    {
     "data": {
      "image/png": "[encoded data removed]",
      "text/plain": [
       "<Figure size 800x300 with 1 Axes>"
      ]
     },
     "metadata": {},
     "output_type": "display_data"
    }
   ],
   "source": [
    "# --------- #\n",
    "# Preparing #\n",
    "# --------- #\n",
    "\n",
    "overall_fraud_rate = creditcard['Class'].mean() * 100\n",
    "\n",
    "hourly_fraud_rate_train = train.groupby('Hour')['Class'].mean().reset_index()\n",
    "hourly_fraud_rate_test = test.groupby('Hour')['Class'].mean().reset_index()\n",
    "\n",
    "hourly_fraud_rate_train['Class'] *= 100\n",
    "hourly_fraud_rate_test['Class'] *= 100\n",
    "\n",
    "\n",
    "# -------- #\n",
    "# Plotting #\n",
    "# -------- #\n",
    "\n",
    "plt.figure(figsize=(8, 3))\n",
    "\n",
    "plt.axhline(y=overall_fraud_rate, color='C2', linestyle='--', label='Overall Fraud Rate')\n",
    "plt.plot(hourly_fraud_rate_train['Hour'], hourly_fraud_rate_train['Class'], \n",
    "         linestyle='-', marker='o', markerfacecolor='white', markeredgewidth=1.5, color='C0', \n",
    "         label='Train: Hourly Fraud Rate')\n",
    "plt.plot(hourly_fraud_rate_test['Hour'], hourly_fraud_rate_test['Class'], \n",
    "         linestyle='-', marker='o', markerfacecolor='white', markeredgewidth=1.5, color='orange', \n",
    "         label='Test: Hourly Fraud Rate')\n",
    "plt.title('Fraud Rate Per Hour - Train vs Test', fontsize=13)\n",
    "plt.xlabel('Hour of Day')\n",
    "plt.ylabel('Fraud Rate in %')\n",
    "plt.xticks(range(0, 24))\n",
    "plt.legend()\n",
    "plt.grid(False)\n",
    "plt.tight_layout()\n",
    "\n",
    "plt.show()"
   ]
  },
  {
   "cell_type": "code",
   "execution_count": 15,
   "id": "308d89bb",
   "metadata": {
    "execution": {
     "iopub.execute_input": "2024-08-28T13:58:05.938997Z",
     "iopub.status.busy": "2024-08-28T13:58:05.93856Z",
     "iopub.status.idle": "2024-08-28T13:58:05.944351Z",
     "shell.execute_reply": "2024-08-28T13:58:05.94338Z"
    },
    "papermill": {
     "duration": 0.033409,
     "end_time": "2024-08-28T13:58:05.946678",
     "exception": false,
     "start_time": "2024-08-28T13:58:05.913269",
     "status": "completed"
    },
    "tags": []
   },
   "outputs": [],
   "source": [
    "BASE_FEATURES = [\n",
    "    'V1', 'V2', 'V3', 'V4', 'V5', 'V6', 'V7', 'V8', 'V9', 'V10', \n",
    "    'V11', 'V12', 'V13', 'V14', 'V15', 'V16', 'V17', 'V18', 'V19', 'V20',\n",
    "    'V21', 'V22', 'V23', 'V24', 'V25', 'V26', 'V27', 'V28',\n",
    "    MONEY\n",
    "]"
   ]
  },
  {
   "cell_type": "code",
   "execution_count": 16,
   "id": "ca34470b",
   "metadata": {
    "execution": {
     "iopub.execute_input": "2024-08-28T13:58:05.99691Z",
     "iopub.status.busy": "2024-08-28T13:58:05.996455Z",
     "iopub.status.idle": "2024-08-28T13:58:06.026547Z",
     "shell.execute_reply": "2024-08-28T13:58:06.025367Z"
    },
    "papermill": {
     "duration": 0.058179,
     "end_time": "2024-08-28T13:58:06.029328",
     "exception": false,
     "start_time": "2024-08-28T13:58:05.971149",
     "status": "completed"
    },
    "tags": []
   },
   "outputs": [],
   "source": [
    "# --- Split datasets to train and predict on ---\n",
    "X_train, y_train = train[BASE_FEATURES], train[TARGET]\n",
    "X_test, y_test = test[BASE_FEATURES], test[TARGET]"
   ]
  },
  {
   "cell_type": "markdown",
   "id": "490d33bf",
   "metadata": {
    "papermill": {
     "duration": 0.023077,
     "end_time": "2024-08-28T13:58:06.076549",
     "exception": false,
     "start_time": "2024-08-28T13:58:06.053472",
     "status": "completed"
    },
    "tags": []
   },
   "source": [
    "# 2️⃣nd PART : Modeling <a class=\"anchor\"  id=\"part2\"></a>\n",
    "\n",
    "Now we are going to perform some proper machine learning on the dataset. We will iterate through different models and will try to attack the errors and problems of the previous iteration. The following gives a rough overview of the performed iterations: \n",
    "\n",
    "| Iteration | Description | \n",
    "| --------- | ----------- |\n",
    "| `v1` | Basic XGBoost model w/o cross validation and w/o hyperparameter tuning. |\n",
    "| `v2` | XGBoost model w/ cross validation and w/o hyperparamter tuning. |"
   ]
  },
  {
   "cell_type": "markdown",
   "id": "37a6d309",
   "metadata": {
    "papermill": {
     "duration": 0.022705,
     "end_time": "2024-08-28T13:58:06.122869",
     "exception": false,
     "start_time": "2024-08-28T13:58:06.100164",
     "status": "completed"
    },
    "tags": []
   },
   "source": [
    "## 🏋️‍ v1 - Training <a class=\"anchor\"  id=\"section_v1_training\"></a>"
   ]
  },
  {
   "cell_type": "code",
   "execution_count": 17,
   "id": "c93bdcb7",
   "metadata": {
    "execution": {
     "iopub.execute_input": "2024-08-28T13:58:06.173445Z",
     "iopub.status.busy": "2024-08-28T13:58:06.172375Z",
     "iopub.status.idle": "2024-08-28T13:58:11.25616Z",
     "shell.execute_reply": "2024-08-28T13:58:11.255028Z"
    },
    "papermill": {
     "duration": 5.111948,
     "end_time": "2024-08-28T13:58:11.258837",
     "exception": false,
     "start_time": "2024-08-28T13:58:06.146889",
     "status": "completed"
    },
    "tags": []
   },
   "outputs": [
    {
     "data": {
      "text/plain": [
       "XGBClassifier(base_score=0.5, booster='gbtree', callbacks=None,\n",
       "              colsample_bylevel=1, colsample_bynode=1, colsample_bytree=1,\n",
       "              early_stopping_rounds=None, enable_categorical=False,\n",
       "              eval_metric='logloss', gamma=0, gpu_id=-1,\n",
       "              grow_policy='depthwise', importance_type=None,\n",
       "              interaction_constraints='', learning_rate=0.300000012,\n",
       "              max_bin=256, max_cat_to_onehot=4, max_delta_step=0, max_depth=6,\n",
       "              max_leaves=0, min_child_weight=1, missing=nan,\n",
       "              monotone_constraints='()', n_estimators=100, n_jobs=0,\n",
       "              num_parallel_tree=1, predictor='auto', random_state=0,\n",
       "              reg_alpha=0, reg_lambda=1, ...)"
      ]
     },
     "execution_count": 17,
     "metadata": {},
     "output_type": "execute_result"
    }
   ],
   "source": [
    "model = xgb.XGBClassifier(use_label_encoder=False, eval_metric='logloss')\n",
    "model.fit(X_train, y_train)"
   ]
  },
  {
   "cell_type": "markdown",
   "id": "49370f48",
   "metadata": {
    "papermill": {
     "duration": 0.023896,
     "end_time": "2024-08-28T13:58:11.30759",
     "exception": false,
     "start_time": "2024-08-28T13:58:11.283694",
     "status": "completed"
    },
    "tags": []
   },
   "source": [
    "## 🕵️‍ v1 - Validation <a class=\"anchor\"  id=\"section_v1_validation\"></a>"
   ]
  },
  {
   "cell_type": "code",
   "execution_count": 18,
   "id": "2a3d8269",
   "metadata": {
    "execution": {
     "iopub.execute_input": "2024-08-28T13:58:11.359112Z",
     "iopub.status.busy": "2024-08-28T13:58:11.358667Z",
     "iopub.status.idle": "2024-08-28T13:58:12.71456Z",
     "shell.execute_reply": "2024-08-28T13:58:12.713501Z"
    },
    "papermill": {
     "duration": 1.384953,
     "end_time": "2024-08-28T13:58:12.716889",
     "exception": false,
     "start_time": "2024-08-28T13:58:11.331936",
     "status": "completed"
    },
    "tags": []
   },
   "outputs": [
    {
     "data": {
      "text/html": [
       "<div>\n",
       "<style scoped>\n",
       "    .dataframe tbody tr th:only-of-type {\n",
       "        vertical-align: middle;\n",
       "    }\n",
       "\n",
       "    .dataframe tbody tr th {\n",
       "        vertical-align: top;\n",
       "    }\n",
       "\n",
       "    .dataframe thead th {\n",
       "        text-align: right;\n",
       "    }\n",
       "</style>\n",
       "<table border=\"1\" class=\"dataframe\">\n",
       "  <thead>\n",
       "    <tr style=\"text-align: right;\">\n",
       "      <th></th>\n",
       "      <th>Metric</th>\n",
       "      <th>Train</th>\n",
       "      <th>Test</th>\n",
       "    </tr>\n",
       "  </thead>\n",
       "  <tbody>\n",
       "    <tr>\n",
       "      <th>0</th>\n",
       "      <td>Accuracy</td>\n",
       "      <td>1.000000</td>\n",
       "      <td>0.999637</td>\n",
       "    </tr>\n",
       "    <tr>\n",
       "      <th>1</th>\n",
       "      <td>Precision</td>\n",
       "      <td>1.000000</td>\n",
       "      <td>0.916667</td>\n",
       "    </tr>\n",
       "    <tr>\n",
       "      <th>2</th>\n",
       "      <td>Recall</td>\n",
       "      <td>1.000000</td>\n",
       "      <td>0.717391</td>\n",
       "    </tr>\n",
       "    <tr>\n",
       "      <th>3</th>\n",
       "      <td>AUC ROC</td>\n",
       "      <td>1.000000</td>\n",
       "      <td>0.970741</td>\n",
       "    </tr>\n",
       "    <tr>\n",
       "      <th>4</th>\n",
       "      <td>AP</td>\n",
       "      <td>1.000000</td>\n",
       "      <td>0.767317</td>\n",
       "    </tr>\n",
       "    <tr>\n",
       "      <th>5</th>\n",
       "      <td>Brier</td>\n",
       "      <td>0.000002</td>\n",
       "      <td>0.000327</td>\n",
       "    </tr>\n",
       "  </tbody>\n",
       "</table>\n",
       "</div>"
      ],
      "text/plain": [
       "      Metric     Train      Test\n",
       "0   Accuracy  1.000000  0.999637\n",
       "1  Precision  1.000000  0.916667\n",
       "2     Recall  1.000000  0.717391\n",
       "3    AUC ROC  1.000000  0.970741\n",
       "4         AP  1.000000  0.767317\n",
       "5      Brier  0.000002  0.000327"
      ]
     },
     "execution_count": 18,
     "metadata": {},
     "output_type": "execute_result"
    }
   ],
   "source": [
    "results = return_performance_statistics(model, X_train, y_train, X_test, y_test)\n",
    "metrics_df = pd.DataFrame({\n",
    "    'Metric': ['Accuracy', 'Precision', 'Recall', 'AUC ROC', 'AP', 'Brier'],\n",
    "    'Train': [\n",
    "        results.get('train').get('accuracy'),\n",
    "        results.get('train').get('precision'),\n",
    "        results.get('train').get('recall'),\n",
    "        results.get('train').get('auc_roc'),\n",
    "        results.get('train').get('ap'),\n",
    "        results.get('train').get('brier'),\n",
    "    ],\n",
    "    'Test': [\n",
    "        results.get('test').get('accuracy'),\n",
    "        results.get('test').get('precision'),\n",
    "        results.get('test').get('recall'),\n",
    "        results.get('test').get('auc_roc'),\n",
    "        results.get('test').get('ap'),\n",
    "        results.get('test').get('brier'),\n",
    "    ],\n",
    "})\n",
    "metrics_df"
   ]
  },
  {
   "cell_type": "markdown",
   "id": "67ddc0d7",
   "metadata": {
    "papermill": {
     "duration": 0.02348,
     "end_time": "2024-08-28T13:58:12.764404",
     "exception": false,
     "start_time": "2024-08-28T13:58:12.740924",
     "status": "completed"
    },
    "tags": []
   },
   "source": [
    "__Observations__\n",
    "\n",
    "Since the dataset is highly imbalanced we should focus our investigation on the Average Precision (AP) metric as well as one the Brier Score. AP should be as high as possible while the brier score should be as low as possible. The model is quiet predictive and shows a perfect AP on the `Train` set. However the AP on the `Test` set, even though being high, is significantly lower than on the `Train` set. This is a sign of __large overfitting__. The Brier scores are both very low, even though being much higher on the `Test` set. This could be a sign of bad calibration. "
   ]
  },
  {
   "cell_type": "code",
   "execution_count": 19,
   "id": "ac33291e",
   "metadata": {
    "execution": {
     "iopub.execute_input": "2024-08-28T13:58:12.866794Z",
     "iopub.status.busy": "2024-08-28T13:58:12.865845Z",
     "iopub.status.idle": "2024-08-28T13:58:13.389989Z",
     "shell.execute_reply": "2024-08-28T13:58:13.388928Z"
    },
    "papermill": {
     "duration": 0.604487,
     "end_time": "2024-08-28T13:58:13.392603",
     "exception": false,
     "start_time": "2024-08-28T13:58:12.788116",
     "status": "completed"
    },
    "tags": []
   },
   "outputs": [
    {
     "name": "stdout",
     "output_type": "stream",
     "text": [
      "==================== TRAINING ====================\n",
      "┌──────────────┬────────────────┬──────────────┐\n",
      "│              │   Pred Genuine │   Pred Fraud │\n",
      "├──────────────┼────────────────┼──────────────┤\n",
      "│ True Genuine │        240,279 │            0 │\n",
      "├──────────────┼────────────────┼──────────────┤\n",
      "│ True Fraud   │              0 │          446 │\n",
      "└──────────────┴────────────────┴──────────────┘\n",
      "\n",
      "====================== TEST ======================\n",
      "┌──────────────┬────────────────┬──────────────┐\n",
      "│              │   Pred Genuine │   Pred Fraud │\n",
      "├──────────────┼────────────────┼──────────────┤\n",
      "│ True Genuine │         44,033 │            3 │\n",
      "├──────────────┼────────────────┼──────────────┤\n",
      "│ True Fraud   │             13 │           33 │\n",
      "└──────────────┴────────────────┴──────────────┘\n"
     ]
    }
   ],
   "source": [
    "LABELS = ['Genuine', 'Fraud']\n",
    "\n",
    "cm = confusion_matrix(y_train, model.predict(X_train))\n",
    "print(f\"{' TRAINING ':=^50}\")\n",
    "print(tabulate(cm, \n",
    "               headers=[f'Pred {l}' for l in LABELS],\n",
    "               showindex=[f'True {l}' for l in LABELS],\n",
    "               floatfmt=\",.0f\", tablefmt=\"simple_grid\"))\n",
    "print()\n",
    "\n",
    "cm = confusion_matrix(y_test, model.predict(X_test))\n",
    "print(f\"{' TEST ':=^50}\")\n",
    "print(tabulate(cm, \n",
    "               headers=[f'Pred {l}' for l in LABELS],\n",
    "               showindex=[f'True {l}' for l in LABELS],\n",
    "               floatfmt=\",.0f\", tablefmt=\"simple_grid\"))"
   ]
  },
  {
   "cell_type": "markdown",
   "id": "a5757274",
   "metadata": {
    "papermill": {
     "duration": 0.024248,
     "end_time": "2024-08-28T13:58:13.442031",
     "exception": false,
     "start_time": "2024-08-28T13:58:13.417783",
     "status": "completed"
    },
    "tags": []
   },
   "source": [
    "## 💰 v1 - Monetary Impact Analysis <a class=\"anchor\"  id=\"section_v1_money\"></a>"
   ]
  },
  {
   "cell_type": "code",
   "execution_count": 20,
   "id": "c5209f68",
   "metadata": {
    "execution": {
     "iopub.execute_input": "2024-08-28T13:58:13.494131Z",
     "iopub.status.busy": "2024-08-28T13:58:13.492962Z",
     "iopub.status.idle": "2024-08-28T13:58:14.029467Z",
     "shell.execute_reply": "2024-08-28T13:58:14.028312Z"
    },
    "papermill": {
     "duration": 0.565445,
     "end_time": "2024-08-28T13:58:14.032077",
     "exception": false,
     "start_time": "2024-08-28T13:58:13.466632",
     "status": "completed"
    },
    "tags": []
   },
   "outputs": [
    {
     "data": {
      "text/html": [
       "<div>\n",
       "<style scoped>\n",
       "    .dataframe tbody tr th:only-of-type {\n",
       "        vertical-align: middle;\n",
       "    }\n",
       "\n",
       "    .dataframe tbody tr th {\n",
       "        vertical-align: top;\n",
       "    }\n",
       "\n",
       "    .dataframe thead th {\n",
       "        text-align: right;\n",
       "    }\n",
       "</style>\n",
       "<table border=\"1\" class=\"dataframe\">\n",
       "  <thead>\n",
       "    <tr style=\"text-align: right;\">\n",
       "      <th></th>\n",
       "      <th>Dataset</th>\n",
       "      <th>TP</th>\n",
       "      <th>TN</th>\n",
       "      <th>FP</th>\n",
       "      <th>FN</th>\n",
       "      <th>TP Amt</th>\n",
       "      <th>TN Amt</th>\n",
       "      <th>FP Amt</th>\n",
       "      <th>FN Amt</th>\n",
       "    </tr>\n",
       "  </thead>\n",
       "  <tbody>\n",
       "    <tr>\n",
       "      <th>0</th>\n",
       "      <td>TRAINING</td>\n",
       "      <td>446</td>\n",
       "      <td>240279</td>\n",
       "      <td>0</td>\n",
       "      <td>0</td>\n",
       "      <td>54513.35</td>\n",
       "      <td>22006732.53</td>\n",
       "      <td>0.00</td>\n",
       "      <td>0.00</td>\n",
       "    </tr>\n",
       "    <tr>\n",
       "      <th>1</th>\n",
       "      <td>TEST</td>\n",
       "      <td>33</td>\n",
       "      <td>44033</td>\n",
       "      <td>3</td>\n",
       "      <td>13</td>\n",
       "      <td>4048.76</td>\n",
       "      <td>3069927.68</td>\n",
       "      <td>25801.83</td>\n",
       "      <td>1565.86</td>\n",
       "    </tr>\n",
       "  </tbody>\n",
       "</table>\n",
       "</div>"
      ],
      "text/plain": [
       "    Dataset   TP      TN  FP  FN    TP Amt       TN Amt    FP Amt   FN Amt\n",
       "0  TRAINING  446  240279   0   0  54513.35  22006732.53      0.00     0.00\n",
       "1      TEST   33   44033   3  13   4048.76   3069927.68  25801.83  1565.86"
      ]
     },
     "execution_count": 20,
     "metadata": {},
     "output_type": "execute_result"
    }
   ],
   "source": [
    "LABELS = ['Genuine', 'Fraud']\n",
    "datasets = ['TRAINING', 'TEST']\n",
    "data = [(y_train, X_train), (y_test, X_test)]\n",
    "\n",
    "def calculate_monetary_impact(y_true, y_pred, amt):\n",
    "    TP = amt[(y_true == 1) & (y_pred == 1)].sum()\n",
    "    TN = amt[(y_true == 0) & (y_pred == 0)].sum()\n",
    "    FP = amt[(y_true == 0) & (y_pred == 1)].sum()\n",
    "    FN = amt[(y_true == 1) & (y_pred == 0)].sum()\n",
    "    return TP, TN, FP, FN\n",
    "\n",
    "results = []\n",
    "\n",
    "for (y, X), dataset in zip(data, datasets):\n",
    "    y_pred = model.predict(X)\n",
    "    cm = confusion_matrix(y, y_pred)\n",
    "    TP, TN, FP, FN = calculate_monetary_impact(y, y_pred, X[MONEY])\n",
    "    results.append([dataset, cm[1, 1], cm[0, 0], cm[0, 1], cm[1, 0], TP, TN, FP, FN])\n",
    "\n",
    "results_df = pd.DataFrame(results, columns=['Dataset', 'TP', 'TN', 'FP', 'FN', 'TP Amt', 'TN Amt', 'FP Amt', 'FN Amt'])\n",
    "results_df"
   ]
  },
  {
   "cell_type": "markdown",
   "id": "8c005846",
   "metadata": {
    "papermill": {
     "duration": 0.025423,
     "end_time": "2024-08-28T13:58:14.083053",
     "exception": false,
     "start_time": "2024-08-28T13:58:14.05763",
     "status": "completed"
    },
    "tags": []
   },
   "source": [
    "## 📊 v1 - SHAP Insights <a class=\"anchor\"  id=\"section_v2_tsp\"></a>\n",
    "\n",
    "In this section we are going to take a look at different kinds of plot to visualize SHAP values, namely [beeswarm](https://shap.readthedocs.io/en/latest/generated/shap.plots.beeswarm.html), [bar](https://shap.readthedocs.io/en/latest/generated/shap.plots.bar.html), [waterfall](https://shap.readthedocs.io/en/latest/generated/shap.plots.waterfall.html) plots. \n",
    "\n",
    "| SHAP Plot | Short Description | \n",
    "| --------- | ----------------- |\n",
    "| [beeswarm](https://shap.readthedocs.io/en/latest/generated/shap.plots.beeswarm.html) | Visualizes SHAP values for individual predictions, revealing feature importance and interaction patterns. |\n",
    "| [bar](https://shap.readthedocs.io/en/latest/generated/shap.plots.bar.html) | Displays average SHAP values for each feature, showing their overall impact on model predictions. |\n"
   ]
  },
  {
   "cell_type": "code",
   "execution_count": 21,
   "id": "7cda0397",
   "metadata": {
    "execution": {
     "iopub.execute_input": "2024-08-28T13:58:14.136865Z",
     "iopub.status.busy": "2024-08-28T13:58:14.136046Z",
     "iopub.status.idle": "2024-08-28T13:58:15.494208Z",
     "shell.execute_reply": "2024-08-28T13:58:15.492933Z"
    },
    "papermill": {
     "duration": 1.388159,
     "end_time": "2024-08-28T13:58:15.497037",
     "exception": false,
     "start_time": "2024-08-28T13:58:14.108878",
     "status": "completed"
    },
    "tags": []
   },
   "outputs": [],
   "source": [
    "# Sample the data. Otherwise SHAP value calculation takes too long.\n",
    "X_test_sampled = X_test.sample(frac=0.1, random_state=RANDOM_STATE, replace=False)\n",
    "\n",
    "# Calculate SHAP values.\n",
    "explainer = shap.Explainer(model)\n",
    "shap_values = explainer.shap_values(X_test_sampled)"
   ]
  },
  {
   "cell_type": "code",
   "execution_count": 22,
   "id": "12927769",
   "metadata": {
    "execution": {
     "iopub.execute_input": "2024-08-28T13:58:15.550236Z",
     "iopub.status.busy": "2024-08-28T13:58:15.549239Z",
     "iopub.status.idle": "2024-08-28T13:58:17.121917Z",
     "shell.execute_reply": "2024-08-28T13:58:17.120844Z"
    },
    "papermill": {
     "duration": 1.601227,
     "end_time": "2024-08-28T13:58:17.124873",
     "exception": false,
     "start_time": "2024-08-28T13:58:15.523646",
     "status": "completed"
    },
    "tags": []
   },
   "outputs": [
    {
     "data": {
      "image/png": "[encoded data removed]",
      "text/plain": [
       "<Figure size 800x800 with 2 Axes>"
      ]
     },
     "metadata": {},
     "output_type": "display_data"
    }
   ],
   "source": [
    "assert shap_values.shape[0] == X_test_sampled.shape[0], \"ERROR: Mismatch in number of samples!\"\n",
    "assert shap_values.shape[1] == X_test_sampled.shape[1], \"ERROR: Mismatch in number of features!\"\n",
    "\n",
    "# --- SHAP Summary Plot on Test Set Sample ---\n",
    "shap.summary_plot(shap_values, X_test_sampled, plot_size=(8, 8))"
   ]
  },
  {
   "cell_type": "markdown",
   "id": "9456623e",
   "metadata": {
    "papermill": {
     "duration": 0.027025,
     "end_time": "2024-08-28T13:58:17.180048",
     "exception": false,
     "start_time": "2024-08-28T13:58:17.153023",
     "status": "completed"
    },
    "tags": []
   },
   "source": [
    "Now let's take a look at the SHAP bar plot which will take the absolute value of each feature over all the instances (rows) of the dataset (Source: [shap.readthedocs](https://shap.readthedocs.io/en/latest/example_notebooks/overviews/An%20introduction%20to%20explainable%20AI%20with%20Shapley%20values.html#The-additive-nature-of-Shapley-values))."
   ]
  },
  {
   "cell_type": "code",
   "execution_count": 23,
   "id": "d045eb8c",
   "metadata": {
    "execution": {
     "iopub.execute_input": "2024-08-28T13:58:17.237092Z",
     "iopub.status.busy": "2024-08-28T13:58:17.236645Z",
     "iopub.status.idle": "2024-08-28T13:58:17.540635Z",
     "shell.execute_reply": "2024-08-28T13:58:17.539633Z"
    },
    "papermill": {
     "duration": 0.335529,
     "end_time": "2024-08-28T13:58:17.543186",
     "exception": false,
     "start_time": "2024-08-28T13:58:17.207657",
     "status": "completed"
    },
    "tags": []
   },
   "outputs": [
    {
     "data": {
      "image/png": "[encoded data removed]",
      "text/plain": [
       "<Figure size 800x800 with 1 Axes>"
      ]
     },
     "metadata": {},
     "output_type": "display_data"
    }
   ],
   "source": [
    "shap.summary_plot(shap_values, X_test_sampled, plot_type='bar', plot_size=(8, 8))"
   ]
  },
  {
   "cell_type": "markdown",
   "id": "9844f373",
   "metadata": {
    "papermill": {
     "duration": 0.027595,
     "end_time": "2024-08-28T13:58:17.59824",
     "exception": false,
     "start_time": "2024-08-28T13:58:17.570645",
     "status": "completed"
    },
    "tags": []
   },
   "source": [
    "Additionally, we can take alook at the influence of features on single predictions. For that it's [SHAP's waterfall plot](https://shap.readthedocs.io/en/latest/example_notebooks/overviews/An%20introduction%20to%20explainable%20AI%20with%20Shapley%20values.html#The-additive-nature-of-Shapley-values) can be used. The intuition of the waterfall plot is that SHAP values of all the input features will always sum up to the difference between _baseline (expected) model_ and the _current model_ output $f(X)$ for the prediction being explained. The waterfall makes this easy to see because it starts at the background prior expecation $\\mathbb{E}[f(X)]$, and then adds features one at a time until the current model out $f(X)$ is reached. "
   ]
  },
  {
   "cell_type": "markdown",
   "id": "dbcc77e4",
   "metadata": {
    "papermill": {
     "duration": 0.030961,
     "end_time": "2024-08-28T13:58:19.147104",
     "exception": false,
     "start_time": "2024-08-28T13:58:19.116143",
     "status": "completed"
    },
    "tags": []
   },
   "source": [
    "## ⏱️ v2 - TimeSeriesSplit <a class=\"anchor\"  id=\"section_v2_tsp\"></a>\n",
    "\n",
    "Now we are going to perform the aforementioned time series split to the perform hyperparameter tuning on it. Let's take a look at what `TimeSeriesSplit` is doing. "
   ]
  },
  {
   "cell_type": "code",
   "execution_count": 25,
   "id": "15820184",
   "metadata": {
    "execution": {
     "iopub.execute_input": "2024-08-28T13:58:19.211983Z",
     "iopub.status.busy": "2024-08-28T13:58:19.211518Z",
     "iopub.status.idle": "2024-08-28T13:58:19.279649Z",
     "shell.execute_reply": "2024-08-28T13:58:19.278272Z"
    },
    "papermill": {
     "duration": 0.103564,
     "end_time": "2024-08-28T13:58:19.282206",
     "exception": false,
     "start_time": "2024-08-28T13:58:19.178642",
     "status": "completed"
    },
    "tags": []
   },
   "outputs": [
    {
     "name": "stdout",
     "output_type": "stream",
     "text": [
      "Hour time ranges for each TimeSeriesSplit\n",
      "=========================================\n",
      "Split 1:\n",
      "  Train:  0  to   8\n",
      "  Test :  8  to  11\n",
      "Split 2:\n",
      "  Train:  0  to  11\n",
      "  Test : 11  to  13\n",
      "Split 3:\n",
      "  Train:  0  to  13\n",
      "  Test : 13  to  16\n",
      "Split 4:\n",
      "  Train:  0  to  16\n",
      "  Test : 16  to  18\n",
      "Split 5:\n",
      "  Train:  0  to  18\n",
      "  Test : 18  to  20\n"
     ]
    }
   ],
   "source": [
    "# --- To better understand for the reader what TSP is doing (compared to classical CV) ---\n",
    "\n",
    "tscv = TimeSeriesSplit(n_splits=5)\n",
    "timestamps = train.loc[X_train.index]['Hour']\n",
    "\n",
    "split_num = 1\n",
    "print(\"Hour time ranges for each TimeSeriesSplit\")\n",
    "print(\"=========================================\")\n",
    "for train_index, test_index in tscv.split(X_train):\n",
    "    train_times = timestamps.iloc[train_index]\n",
    "    test_times = timestamps.iloc[test_index]\n",
    "    print(f\"Split {split_num}:\")\n",
    "    print(f\"  Train: {train_times.min():2.0f}  to  {train_times.max():2.0f}\")\n",
    "    print(f\"  Test : {test_times.min():2.0f}  to  {test_times.max():.0f}\")\n",
    "    split_num += 1"
   ]
  },
  {
   "cell_type": "markdown",
   "id": "fde4b8f3",
   "metadata": {
    "papermill": {
     "duration": 0.031675,
     "end_time": "2024-08-28T13:58:19.346546",
     "exception": false,
     "start_time": "2024-08-28T13:58:19.314871",
     "status": "completed"
    },
    "tags": []
   },
   "source": [
    "We see that since we defined `n_splits` as 5 `TimeSeriesSplit` splits the data into 5 folds. The 1st fold is time-wise _before_ all the other folds. The 2nd fold is contains the 1st fold's `Test` data in it's `Train` data and has additional data as `Test`. And so on. The last fold contains all the data up until the 18th hour as it's `Train` data and the hours after that as `Test`. \n",
    "\n",
    "It becomes clear that the earlier split's will have worse performance. Simply because they contain less data. Split 1 has less data then all the other folds, and Split 5 has the most data."
   ]
  },
  {
   "cell_type": "markdown",
   "id": "756e9eb4",
   "metadata": {
    "papermill": {
     "duration": 0.031453,
     "end_time": "2024-08-28T13:58:19.409351",
     "exception": false,
     "start_time": "2024-08-28T13:58:19.377898",
     "status": "completed"
    },
    "tags": []
   },
   "source": [
    "## 🏋️‍ v2 - Training with Hyperparametertuning <a class=\"anchor\"  id=\"section_v2_training\"></a>\n",
    "\n",
    "Now we are going to perform Bayesian Hyperparametertuning using the time series splits from before. "
   ]
  },
  {
   "cell_type": "code",
   "execution_count": 26,
   "id": "b93dd7bc",
   "metadata": {
    "execution": {
     "iopub.execute_input": "2024-08-28T13:58:19.472785Z",
     "iopub.status.busy": "2024-08-28T13:58:19.47234Z",
     "iopub.status.idle": "2024-08-28T14:30:18.878125Z",
     "shell.execute_reply": "2024-08-28T14:30:18.876939Z"
    },
    "papermill": {
     "duration": 1919.482032,
     "end_time": "2024-08-28T14:30:18.921904",
     "exception": false,
     "start_time": "2024-08-28T13:58:19.439872",
     "status": "completed"
    },
    "tags": []
   },
   "outputs": [
    {
     "name": "stderr",
     "output_type": "stream",
     "text": [
      "[I 2024-08-31 17:53:06,104] A new study created in memory with name: v2\n",
      "[I 2024-08-31 17:53:46,220] Trial 0 finished with value: 0.9533391405342625 and parameters: {'max_depth': 6, 'min_child_weight': 10, 'gamma': 0.7319939418114051, 'subsample': 0.8795975452591109, 'colsample_bytree': 0.7468055921327309}. Best is trial 0 with value: 0.9533391405342625.\n",
      "[I 2024-08-31 17:54:38,653] Trial 1 finished with value: 0.9777886178861788 and parameters: {'max_depth': 3, 'min_child_weight': 1, 'gamma': 0.8661761457749352, 'subsample': 0.8803345035229626, 'colsample_bytree': 0.9124217733388136}. Best is trial 1 with value: 0.9777886178861788.\n",
      "[I 2024-08-31 17:54:59,739] Trial 2 finished with value: 0.9514277108198081 and parameters: {'max_depth': 1, 'min_child_weight': 10, 'gamma': 0.8324426408004217, 'subsample': 0.7637017332034828, 'colsample_bytree': 0.7545474901621302}. Best is trial 1 with value: 0.9777886178861788.\n",
      "[I 2024-08-31 17:55:41,626] Trial 3 finished with value: 0.9634646962233168 and parameters: {'max_depth': 3, 'min_child_weight': 4, 'gamma': 0.5247564316322378, 'subsample': 0.8295835055926347, 'colsample_bytree': 0.7873687420594125}. Best is trial 1 with value: 0.9777886178861788.\n",
      "[I 2024-08-31 17:56:37,744] Trial 4 finished with value: 0.9559055569409475 and parameters: {'max_depth': 10, 'min_child_weight': 2, 'gamma': 0.29214464853521815, 'subsample': 0.8099085529881075, 'colsample_bytree': 0.8368209952651108}. Best is trial 1 with value: 0.9777886178861788.\n",
      "[I 2024-08-31 17:57:36,402] Trial 5 finished with value: 0.9611765532149003 and parameters: {'max_depth': 13, 'min_child_weight': 2, 'gamma': 0.5142344384136116, 'subsample': 0.8777243706586128, 'colsample_bytree': 0.7139351238159993}. Best is trial 1 with value: 0.9777886178861788.\n",
      "[I 2024-08-31 17:58:57,306] Trial 6 finished with value: 0.9762208713272542 and parameters: {'max_depth': 10, 'min_child_weight': 2, 'gamma': 0.06505159298527952, 'subsample': 0.984665661176, 'colsample_bytree': 0.9896896099223678}. Best is trial 1 with value: 0.9777886178861788.\n",
      "[I 2024-08-31 17:59:58,303] Trial 7 finished with value: 0.965028921172989 and parameters: {'max_depth': 13, 'min_child_weight': 4, 'gamma': 0.09767211400638387, 'subsample': 0.905269907953647, 'colsample_bytree': 0.8320457481218804}. Best is trial 1 with value: 0.9777886178861788.\n",
      "[I 2024-08-31 18:00:33,243] Trial 8 finished with value: 0.9584523809523808 and parameters: {'max_depth': 2, 'min_child_weight': 5, 'gamma': 0.034388521115218396, 'subsample': 0.9727961206236346, 'colsample_bytree': 0.777633994480005}. Best is trial 1 with value: 0.9777886178861788.\n",
      "[I 2024-08-31 18:01:24,862] Trial 9 finished with value: 0.9488058491762521 and parameters: {'max_depth': 11, 'min_child_weight': 4, 'gamma': 0.5200680211778108, 'subsample': 0.8640130838029838, 'colsample_bytree': 0.7554563366576581}. Best is trial 1 with value: 0.9777886178861788.\n",
      "[I 2024-08-31 18:02:13,052] Trial 10 finished with value: 0.9631457607433216 and parameters: {'max_depth': 6, 'min_child_weight': 7, 'gamma': 0.9695371107878661, 'subsample': 0.7053885626844458, 'colsample_bytree': 0.950089499697985}. Best is trial 1 with value: 0.9777886178861788.\n",
      "[I 2024-08-31 18:03:37,107] Trial 11 finished with value: 0.968320522927342 and parameters: {'max_depth': 7, 'min_child_weight': 1, 'gamma': 0.28033182533567375, 'subsample': 0.9840885629170448, 'colsample_bytree': 0.9902495045654139}. Best is trial 1 with value: 0.9777886178861788.\n",
      "[I 2024-08-31 18:05:06,469] Trial 12 finished with value: 0.9641830870279146 and parameters: {'max_depth': 16, 'min_child_weight': 1, 'gamma': 0.6908134754626696, 'subsample': 0.9358999903617061, 'colsample_bytree': 0.9163548200893659}. Best is trial 1 with value: 0.9777886178861788.\n",
      "[I 2024-08-31 18:05:56,325] Trial 13 finished with value: 0.9606520657043305 and parameters: {'max_depth': 4, 'min_child_weight': 7, 'gamma': 0.27701238952765483, 'subsample': 0.9390393557490709, 'colsample_bytree': 0.8937569322109723}. Best is trial 1 with value: 0.9777886178861788.\n",
      "[I 2024-08-31 18:07:01,368] Trial 14 finished with value: 0.9587302374718663 and parameters: {'max_depth': 9, 'min_child_weight': 3, 'gamma': 0.9666674470691226, 'subsample': 0.7823454919847442, 'colsample_bytree': 0.9971415949725132}. Best is trial 1 with value: 0.9777886178861788.\n",
      "[I 2024-08-31 18:08:28,029] Trial 15 finished with value: 0.9649306924188675 and parameters: {'max_depth': 12, 'min_child_weight': 1, 'gamma': 0.15358208873010593, 'subsample': 0.9958125054850919, 'colsample_bytree': 0.9424357523544589}. Best is trial 1 with value: 0.9777886178861788.\n",
      "[I 2024-08-31 18:09:23,139] Trial 16 finished with value: 0.9611997526283241 and parameters: {'max_depth': 8, 'min_child_weight': 6, 'gamma': 0.650017134551377, 'subsample': 0.9301631853816912, 'colsample_bytree': 0.8791880730888535}. Best is trial 1 with value: 0.9777886178861788.\n",
      "[I 2024-08-31 18:10:27,034] Trial 17 finished with value: 0.9608117907917046 and parameters: {'max_depth': 5, 'min_child_weight': 3, 'gamma': 0.36585430255820783, 'subsample': 0.9562376452982237, 'colsample_bytree': 0.9579714382030247}. Best is trial 1 with value: 0.9777886178861788.\n",
      "[I 2024-08-31 18:11:40,824] Trial 18 finished with value: 0.9522537962553441 and parameters: {'max_depth': 16, 'min_child_weight': 2, 'gamma': 0.8270904178884814, 'subsample': 0.9067467468954586, 'colsample_bytree': 0.9172188358148377}. Best is trial 1 with value: 0.9777886178861788.\n",
      "[I 2024-08-31 18:12:24,195] Trial 19 finished with value: 0.9495094156069765 and parameters: {'max_depth': 8, 'min_child_weight': 8, 'gamma': 0.3901562231060753, 'subsample': 0.738347297284792, 'colsample_bytree': 0.8673690438911811}. Best is trial 1 with value: 0.9777886178861788.\n",
      "[I 2024-08-31 18:13:28,301] Trial 20 finished with value: 0.9389426278986172 and parameters: {'max_depth': 14, 'min_child_weight': 3, 'gamma': 0.6092599562105127, 'subsample': 0.8372387522284308, 'colsample_bytree': 0.9756130832070422}. Best is trial 1 with value: 0.9777886178861788.\n",
      "[I 2024-08-31 18:14:47,473] Trial 21 finished with value: 0.9666666666666666 and parameters: {'max_depth': 7, 'min_child_weight': 1, 'gamma': 0.1901714416984472, 'subsample': 0.9729690883416552, 'colsample_bytree': 0.9942374108062986}. Best is trial 1 with value: 0.9777886178861788.\n",
      "[I 2024-08-31 18:16:06,852] Trial 22 finished with value: 0.974826252294781 and parameters: {'max_depth': 10, 'min_child_weight': 1, 'gamma': 0.01317921438092351, 'subsample': 0.9970794798789302, 'colsample_bytree': 0.9270393657195706}. Best is trial 1 with value: 0.9777886178861788.\n",
      "[I 2024-08-31 18:17:20,065] Trial 23 finished with value: 0.9708853713416594 and parameters: {'max_depth': 10, 'min_child_weight': 2, 'gamma': 0.004788778850111031, 'subsample': 0.9995865341218934, 'colsample_bytree': 0.9201606970807984}. Best is trial 1 with value: 0.9777886178861788.\n",
      "[I 2024-08-31 18:18:44,780] Trial 24 finished with value: 0.9737526840975116 and parameters: {'max_depth': 10, 'min_child_weight': 1, 'gamma': 0.11606193783458676, 'subsample': 0.9003377348752278, 'colsample_bytree': 0.937463855557558}. Best is trial 1 with value: 0.9777886178861788.\n",
      "[I 2024-08-31 18:19:55,173] Trial 25 finished with value: 0.9609983058953222 and parameters: {'max_depth': 9, 'min_child_weight': 3, 'gamma': 0.19783964503986923, 'subsample': 0.9628124140927221, 'colsample_bytree': 0.8969372741885432}. Best is trial 1 with value: 0.9777886178861788.\n",
      "[I 2024-08-31 18:21:17,674] Trial 26 finished with value: 0.9675556043698121 and parameters: {'max_depth': 11, 'min_child_weight': 2, 'gamma': 0.42902790135005986, 'subsample': 0.9449605804031611, 'colsample_bytree': 0.9692006874425914}. Best is trial 1 with value: 0.9777886178861788.\n",
      "[I 2024-08-31 18:22:15,570] Trial 27 finished with value: 0.9483716839299593 and parameters: {'max_depth': 14, 'min_child_weight': 5, 'gamma': 0.06428148592030734, 'subsample': 0.9144007441971791, 'colsample_bytree': 0.8511618681517321}. Best is trial 1 with value: 0.9777886178861788.\n",
      "[I 2024-08-31 18:23:17,357] Trial 28 finished with value: 0.959556432063766 and parameters: {'max_depth': 4, 'min_child_weight': 1, 'gamma': 0.7962294638275117, 'subsample': 0.8129980262059692, 'colsample_bytree': 0.9298400511059368}. Best is trial 1 with value: 0.9777886178861788.\n"
     ]
    },
    {
     "name": "stderr",
     "output_type": "stream",
     "text": [
      "[I 2024-08-31 18:24:06,427] Trial 29 finished with value: 0.911968253968254 and parameters: {'max_depth': 6, 'min_child_weight': 10, 'gamma': 0.8731424285218724, 'subsample': 0.8683252656117808, 'colsample_bytree': 0.8968827922112076}. Best is trial 1 with value: 0.9777886178861788.\n",
      "[I 2024-08-31 18:24:33,925] Trial 30 finished with value: 0.9001628001628001 and parameters: {'max_depth': 1, 'min_child_weight': 2, 'gamma': 0.5905169110631139, 'subsample': 0.9861689347899698, 'colsample_bytree': 0.9637710275034433}. Best is trial 1 with value: 0.9777886178861788.\n",
      "[I 2024-08-31 18:25:48,809] Trial 31 finished with value: 0.9636313628899835 and parameters: {'max_depth': 10, 'min_child_weight': 1, 'gamma': 0.12424419934712773, 'subsample': 0.8900464757679042, 'colsample_bytree': 0.9282927656422301}. Best is trial 1 with value: 0.9777886178861788.\n",
      "[I 2024-08-31 18:27:04,430] Trial 32 finished with value: 0.9730567197316452 and parameters: {'max_depth': 12, 'min_child_weight': 1, 'gamma': 0.22612309891153903, 'subsample': 0.8516230218573149, 'colsample_bytree': 0.9379129260081681}. Best is trial 1 with value: 0.9777886178861788.\n",
      "[I 2024-08-31 18:28:19,910] Trial 33 finished with value: 0.9756359539964894 and parameters: {'max_depth': 11, 'min_child_weight': 2, 'gamma': 0.07547478251179157, 'subsample': 0.9229718243656204, 'colsample_bytree': 0.9713474358420164}. Best is trial 1 with value: 0.9777886178861788.\n",
      "[I 2024-08-31 18:29:27,441] Trial 34 finished with value: 0.9476383656911039 and parameters: {'max_depth': 11, 'min_child_weight': 3, 'gamma': 0.06855684072109966, 'subsample': 0.9203296215004062, 'colsample_bytree': 0.9767796081429102}. Best is trial 1 with value: 0.9777886178861788.\n",
      "[I 2024-08-31 18:30:29,397] Trial 35 finished with value: 0.9658941197360417 and parameters: {'max_depth': 9, 'min_child_weight': 2, 'gamma': 0.0195150345164532, 'subsample': 0.9486277698278758, 'colsample_bytree': 0.811467040728066}. Best is trial 1 with value: 0.9777886178861788.\n",
      "[I 2024-08-31 18:31:39,393] Trial 36 finished with value: 0.9562691769652284 and parameters: {'max_depth': 12, 'min_child_weight': 4, 'gamma': 0.3442296659696152, 'subsample': 0.9661313332723085, 'colsample_bytree': 0.9825499800323111}. Best is trial 1 with value: 0.9777886178861788.\n",
      "[I 2024-08-31 18:32:53,845] Trial 37 finished with value: 0.9756378573883444 and parameters: {'max_depth': 13, 'min_child_weight': 2, 'gamma': 0.17069329359305246, 'subsample': 0.876305659136192, 'colsample_bytree': 0.9560399190249965}. Best is trial 1 with value: 0.9777886178861788.\n",
      "[I 2024-08-31 18:34:07,750] Trial 38 finished with value: 0.9644603604153525 and parameters: {'max_depth': 14, 'min_child_weight': 2, 'gamma': 0.45088522178407364, 'subsample': 0.8545502075873921, 'colsample_bytree': 0.9570637534605924}. Best is trial 1 with value: 0.9777886178861788.\n",
      "[I 2024-08-31 18:34:59,830] Trial 39 finished with value: 0.9479328449328449 and parameters: {'max_depth': 15, 'min_child_weight': 9, 'gamma': 0.23557947542831897, 'subsample': 0.8787757921437367, 'colsample_bytree': 0.9518928403074515}. Best is trial 1 with value: 0.9777886178861788.\n",
      "[I 2024-08-31 18:35:59,596] Trial 40 finished with value: 0.9417388902742807 and parameters: {'max_depth': 13, 'min_child_weight': 4, 'gamma': 0.15544017296371135, 'subsample': 0.8301116603303896, 'colsample_bytree': 0.9074337623302586}. Best is trial 1 with value: 0.9777886178861788.\n",
      "[I 2024-08-31 18:37:16,143] Trial 41 finished with value: 0.9759646962233168 and parameters: {'max_depth': 11, 'min_child_weight': 2, 'gamma': 0.07463590001381835, 'subsample': 0.8907818887910148, 'colsample_bytree': 0.9713130445571142}. Best is trial 1 with value: 0.9777886178861788.\n",
      "[I 2024-08-31 18:38:30,914] Trial 42 finished with value: 0.9717016840417001 and parameters: {'max_depth': 11, 'min_child_weight': 2, 'gamma': 0.06702913569986169, 'subsample': 0.8922582832477234, 'colsample_bytree': 0.9992101561757205}. Best is trial 1 with value: 0.9777886178861788.\n",
      "[I 2024-08-31 18:39:38,087] Trial 43 finished with value: 0.958261244405312 and parameters: {'max_depth': 12, 'min_child_weight': 3, 'gamma': 0.10688781852660834, 'subsample': 0.8687459750274482, 'colsample_bytree': 0.9808878917083135}. Best is trial 1 with value: 0.9777886178861788.\n",
      "[I 2024-08-31 18:41:30,155] Trial 44 finished with value: 0.9479486993564759 and parameters: {'max_depth': 13, 'min_child_weight': 3, 'gamma': 0.7556992621434151, 'subsample': 0.9208666877311464, 'colsample_bytree': 0.9663263331672829}. Best is trial 1 with value: 0.9777886178861788.\n",
      "[I 2024-08-31 18:41:52,815] Trial 45 finished with value: 0.9669530169791495 and parameters: {'max_depth': 2, 'min_child_weight': 5, 'gamma': 0.1686920866581602, 'subsample': 0.8920511385731796, 'colsample_bytree': 0.9476534544543956}. Best is trial 1 with value: 0.9777886178861788.\n",
      "[I 2024-08-31 18:42:28,956] Trial 46 finished with value: 0.9487302501936139 and parameters: {'max_depth': 13, 'min_child_weight': 4, 'gamma': 0.2514297229559628, 'subsample': 0.8014984823795366, 'colsample_bytree': 0.977545485825825}. Best is trial 1 with value: 0.9777886178861788.\n",
      "[I 2024-08-31 18:43:12,718] Trial 47 finished with value: 0.9685112651861905 and parameters: {'max_depth': 7, 'min_child_weight': 2, 'gamma': 0.31228588078615943, 'subsample': 0.8806639671314691, 'colsample_bytree': 0.9639028634483735}. Best is trial 1 with value: 0.9777886178861788.\n",
      "[I 2024-08-31 18:43:56,268] Trial 48 finished with value: 0.9593276969605368 and parameters: {'max_depth': 11, 'min_child_weight': 3, 'gamma': 0.06578141200848833, 'subsample': 0.8395659436084031, 'colsample_bytree': 0.9874334493396197}. Best is trial 1 with value: 0.9777886178861788.\n",
      "[I 2024-08-31 18:44:34,566] Trial 49 finished with value: 0.9470744109136007 and parameters: {'max_depth': 8, 'min_child_weight': 2, 'gamma': 0.14021877211171013, 'subsample': 0.9327128923815795, 'colsample_bytree': 0.7404507153576092}. Best is trial 1 with value: 0.9777886178861788.\n",
      "[I 2024-08-31 18:45:05,848] Trial 50 finished with value: 0.9578174603174603 and parameters: {'max_depth': 15, 'min_child_weight': 6, 'gamma': 0.08167404175869318, 'subsample': 0.8622008396955351, 'colsample_bytree': 0.87343070141897}. Best is trial 1 with value: 0.9777886178861788.\n",
      "[I 2024-08-31 18:45:55,895] Trial 51 finished with value: 0.9544661246612467 and parameters: {'max_depth': 10, 'min_child_weight': 1, 'gamma': 0.03219098604848422, 'subsample': 0.9863256771437626, 'colsample_bytree': 0.9415166110248528}. Best is trial 1 with value: 0.9777886178861788.\n",
      "[I 2024-08-31 18:46:46,577] Trial 52 finished with value: 0.9757832080200501 and parameters: {'max_depth': 9, 'min_child_weight': 1, 'gamma': 0.01833474968425286, 'subsample': 0.9070594445078389, 'colsample_bytree': 0.9107840924979772}. Best is trial 1 with value: 0.9777886178861788.\n",
      "[I 2024-08-31 18:47:31,785] Trial 53 finished with value: 0.9387265058333248 and parameters: {'max_depth': 9, 'min_child_weight': 2, 'gamma': 0.9011556135892556, 'subsample': 0.909424298819048, 'colsample_bytree': 0.906785113531595}. Best is trial 1 with value: 0.9777886178861788.\n",
      "[I 2024-08-31 18:48:11,319] Trial 54 finished with value: 0.9803066989507668 and parameters: {'max_depth': 8, 'min_child_weight': 1, 'gamma': 0.19225117429339666, 'subsample': 0.8860949277944273, 'colsample_bytree': 0.8552017169449241}. Best is trial 54 with value: 0.9803066989507668.\n",
      "[I 2024-08-31 18:48:45,250] Trial 55 finished with value: 0.9643666570076306 and parameters: {'max_depth': 5, 'min_child_weight': 1, 'gamma': 0.19086508070794095, 'subsample': 0.881154616986122, 'colsample_bytree': 0.8205463659562059}. Best is trial 54 with value: 0.9803066989507668.\n",
      "[I 2024-08-31 18:49:12,441] Trial 56 finished with value: 0.9515296167247387 and parameters: {'max_depth': 3, 'min_child_weight': 1, 'gamma': 0.11101764558777318, 'subsample': 0.9021885464891634, 'colsample_bytree': 0.7928197386467261}. Best is trial 54 with value: 0.9803066989507668.\n",
      "[I 2024-08-31 18:49:50,676] Trial 57 finished with value: 0.9647651331719128 and parameters: {'max_depth': 8, 'min_child_weight': 1, 'gamma': 0.3020681814294361, 'subsample': 0.8451644049161601, 'colsample_bytree': 0.8535940380478163}. Best is trial 54 with value: 0.9803066989507668.\n"
     ]
    },
    {
     "name": "stderr",
     "output_type": "stream",
     "text": [
      "[I 2024-08-31 18:50:33,660] Trial 58 finished with value: 0.9690202517788725 and parameters: {'max_depth': 6, 'min_child_weight': 1, 'gamma': 0.9986409325592859, 'subsample': 0.8139887494844241, 'colsample_bytree': 0.8773673470283585}. Best is trial 54 with value: 0.9803066989507668.\n",
      "[I 2024-08-31 18:51:06,898] Trial 59 finished with value: 0.9524633664958335 and parameters: {'max_depth': 9, 'min_child_weight': 3, 'gamma': 0.00010789677683278875, 'subsample': 0.8594188797489524, 'colsample_bytree': 0.8400507956682733}. Best is trial 54 with value: 0.9803066989507668.\n",
      "[I 2024-08-31 18:51:43,018] Trial 60 finished with value: 0.9759646962233168 and parameters: {'max_depth': 5, 'min_child_weight': 2, 'gamma': 0.20748345681852143, 'subsample': 0.8713840875113916, 'colsample_bytree': 0.8850574767230257}. Best is trial 54 with value: 0.9803066989507668.\n",
      "[I 2024-08-31 18:52:17,885] Trial 61 finished with value: 0.9717806218532612 and parameters: {'max_depth': 5, 'min_child_weight': 2, 'gamma': 0.17449123013924234, 'subsample': 0.8873103973310221, 'colsample_bytree': 0.8876568351971721}. Best is trial 54 with value: 0.9803066989507668.\n",
      "[I 2024-08-31 18:52:54,395] Trial 62 finished with value: 0.972835235789231 and parameters: {'max_depth': 4, 'min_child_weight': 2, 'gamma': 0.21383327296630167, 'subsample': 0.8723841695495134, 'colsample_bytree': 0.8620923156621927}. Best is trial 54 with value: 0.9803066989507668.\n",
      "[I 2024-08-31 18:53:22,963] Trial 63 finished with value: 0.9583066524260611 and parameters: {'max_depth': 2, 'min_child_weight': 1, 'gamma': 0.560158622303121, 'subsample': 0.8975285706637501, 'colsample_bytree': 0.9031632802998976}. Best is trial 54 with value: 0.9803066989507668.\n",
      "[I 2024-08-31 18:53:53,959] Trial 64 finished with value: 0.9591495438023886 and parameters: {'max_depth': 3, 'min_child_weight': 1, 'gamma': 0.03616070655809386, 'subsample': 0.7571039815532956, 'colsample_bytree': 0.8866760394639723}. Best is trial 54 with value: 0.9803066989507668.\n",
      "[I 2024-08-31 18:54:40,397] Trial 65 finished with value: 0.9554414869396034 and parameters: {'max_depth': 7, 'min_child_weight': 2, 'gamma': 0.6751376841209984, 'subsample': 0.9100490780806569, 'colsample_bytree': 0.9225512460413698}. Best is trial 54 with value: 0.9803066989507668.\n",
      "[I 2024-08-31 18:54:56,024] Trial 66 finished with value: 0.8951628001628003 and parameters: {'max_depth': 1, 'min_child_weight': 1, 'gamma': 0.26827687147505436, 'subsample': 0.8738556248570429, 'colsample_bytree': 0.8660204769667328}. Best is trial 54 with value: 0.9803066989507668.\n",
      "[I 2024-08-31 18:55:36,164] Trial 67 finished with value: 0.9658682420336555 and parameters: {'max_depth': 7, 'min_child_weight': 2, 'gamma': 0.13075304123544287, 'subsample': 0.8473314895319061, 'colsample_bytree': 0.8336385566521961}. Best is trial 54 with value: 0.9803066989507668.\n",
      "[I 2024-08-31 18:56:17,165] Trial 68 finished with value: 0.9686219512195123 and parameters: {'max_depth': 10, 'min_child_weight': 3, 'gamma': 0.49226389555464195, 'subsample': 0.8849809217054351, 'colsample_bytree': 0.9094914900469829}. Best is trial 54 with value: 0.9803066989507668.\n",
      "[I 2024-08-31 18:56:54,461] Trial 69 finished with value: 0.9567124024751144 and parameters: {'max_depth': 12, 'min_child_weight': 1, 'gamma': 0.04196719837574031, 'subsample': 0.8237867882932887, 'colsample_bytree': 0.702784953337975}. Best is trial 54 with value: 0.9803066989507668.\n",
      "[I 2024-08-31 18:57:34,377] Trial 70 finished with value: 0.9584080927947862 and parameters: {'max_depth': 6, 'min_child_weight': 2, 'gamma': 0.09759448488527671, 'subsample': 0.8584860466430293, 'colsample_bytree': 0.8844399673101659}. Best is trial 54 with value: 0.9803066989507668.\n",
      "[I 2024-08-31 18:58:22,525] Trial 71 finished with value: 0.9484386858191552 and parameters: {'max_depth': 11, 'min_child_weight': 2, 'gamma': 0.1513501712032232, 'subsample': 0.8976092526594234, 'colsample_bytree': 0.9696668418620258}. Best is trial 54 with value: 0.9803066989507668.\n",
      "[I 2024-08-31 18:59:11,945] Trial 72 finished with value: 0.9726014543748533 and parameters: {'max_depth': 9, 'min_child_weight': 2, 'gamma': 0.04581819336912671, 'subsample': 0.9208751812869529, 'colsample_bytree': 0.9899877252494377}. Best is trial 54 with value: 0.9803066989507668.\n",
      "[I 2024-08-31 18:59:52,358] Trial 73 finished with value: 0.9497597159299161 and parameters: {'max_depth': 4, 'min_child_weight': 3, 'gamma': 0.0987876330140042, 'subsample': 0.9424333376686009, 'colsample_bytree': 0.9340676275041594}. Best is trial 54 with value: 0.9803066989507668.\n",
      "[I 2024-08-31 19:00:41,529] Trial 74 finished with value: 0.9803066989507668 and parameters: {'max_depth': 10, 'min_child_weight': 1, 'gamma': 0.20859352260605402, 'subsample': 0.926689861399692, 'colsample_bytree': 0.9132685179997124}. Best is trial 54 with value: 0.9803066989507668.\n",
      "[I 2024-08-31 19:01:22,917] Trial 75 finished with value: 0.9129172599272266 and parameters: {'max_depth': 8, 'min_child_weight': 1, 'gamma': 0.33606539521516593, 'subsample': 0.7107375460134415, 'colsample_bytree': 0.9153069846427766}. Best is trial 54 with value: 0.9803066989507668.\n",
      "[I 2024-08-31 19:02:12,938] Trial 76 finished with value: 0.9700011152001785 and parameters: {'max_depth': 10, 'min_child_weight': 1, 'gamma': 0.21269880611161518, 'subsample': 0.9757262319007793, 'colsample_bytree': 0.8963792229709314}. Best is trial 54 with value: 0.9803066989507668.\n",
      "[I 2024-08-31 19:02:48,023] Trial 77 finished with value: 0.9682656892544251 and parameters: {'max_depth': 9, 'min_child_weight': 7, 'gamma': 0.2518442423682915, 'subsample': 0.927420658040865, 'colsample_bytree': 0.9564816796832185}. Best is trial 54 with value: 0.9803066989507668.\n",
      "[I 2024-08-31 19:03:33,871] Trial 78 finished with value: 0.9799498746867167 and parameters: {'max_depth': 10, 'min_child_weight': 1, 'gamma': 0.39890330653179623, 'subsample': 0.8670925026115307, 'colsample_bytree': 0.8425085802575133}. Best is trial 54 with value: 0.9803066989507668.\n",
      "[I 2024-08-31 19:04:18,846] Trial 79 finished with value: 0.9781370927599994 and parameters: {'max_depth': 10, 'min_child_weight': 1, 'gamma': 0.40360148049546, 'subsample': 0.9584456675143578, 'colsample_bytree': 0.8550845231502778}. Best is trial 54 with value: 0.9803066989507668.\n",
      "[I 2024-08-31 19:05:02,796] Trial 80 finished with value: 0.963535764832389 and parameters: {'max_depth': 11, 'min_child_weight': 1, 'gamma': 0.39838118889906826, 'subsample': 0.9529819524286794, 'colsample_bytree': 0.845250579106842}. Best is trial 54 with value: 0.9803066989507668.\n",
      "[I 2024-08-31 19:05:52,937] Trial 81 finished with value: 0.9729952998148412 and parameters: {'max_depth': 9, 'min_child_weight': 1, 'gamma': 0.4662904099883265, 'subsample': 0.9803965836884042, 'colsample_bytree': 0.8215966818990795}. Best is trial 54 with value: 0.9803066989507668.\n",
      "[I 2024-08-31 19:06:41,381] Trial 82 finished with value: 0.962326252294781 and parameters: {'max_depth': 10, 'min_child_weight': 1, 'gamma': 0.3897142124238866, 'subsample': 0.9672679910614698, 'colsample_bytree': 0.8536987570560152}. Best is trial 54 with value: 0.9803066989507668.\n",
      "[I 2024-08-31 19:07:25,829] Trial 83 finished with value: 0.9479168684422922 and parameters: {'max_depth': 10, 'min_child_weight': 1, 'gamma': 0.4221129395571185, 'subsample': 0.9113419652303897, 'colsample_bytree': 0.8259163673478853}. Best is trial 54 with value: 0.9803066989507668.\n",
      "[I 2024-08-31 19:08:10,009] Trial 84 finished with value: 0.9533894705423153 and parameters: {'max_depth': 10, 'min_child_weight': 1, 'gamma': 0.548547816716558, 'subsample': 0.9600843444592492, 'colsample_bytree': 0.8588677143701325}. Best is trial 54 with value: 0.9803066989507668.\n",
      "[I 2024-08-31 19:08:55,091] Trial 85 finished with value: 0.9609376421540352 and parameters: {'max_depth': 11, 'min_child_weight': 1, 'gamma': 0.3543502750769668, 'subsample': 0.8954416995207446, 'colsample_bytree': 0.8755941660319873}. Best is trial 54 with value: 0.9803066989507668.\n",
      "[I 2024-08-31 19:09:36,627] Trial 86 finished with value: 0.9557283198350607 and parameters: {'max_depth': 9, 'min_child_weight': 2, 'gamma': 0.31624206919292, 'subsample': 0.9915023478854567, 'colsample_bytree': 0.8124730081607858}. Best is trial 54 with value: 0.9803066989507668.\n"
     ]
    },
    {
     "name": "stderr",
     "output_type": "stream",
     "text": [
      "[I 2024-08-31 19:10:28,628] Trial 87 finished with value: 0.9778670492587279 and parameters: {'max_depth': 11, 'min_child_weight': 1, 'gamma': 0.46653099976289375, 'subsample': 0.9362025454474058, 'colsample_bytree': 0.8431510050382948}. Best is trial 54 with value: 0.9803066989507668.\n",
      "[I 2024-08-31 19:11:13,289] Trial 88 finished with value: 0.9698281973543297 and parameters: {'max_depth': 12, 'min_child_weight': 2, 'gamma': 0.49672209575825277, 'subsample': 0.9367788816346199, 'colsample_bytree': 0.8690947138613556}. Best is trial 54 with value: 0.9803066989507668.\n",
      "[I 2024-08-31 19:12:01,849] Trial 89 finished with value: 0.9817886178861789 and parameters: {'max_depth': 11, 'min_child_weight': 1, 'gamma': 0.42949670404118634, 'subsample': 0.9480661245245886, 'colsample_bytree': 0.8384842189220827}. Best is trial 89 with value: 0.9817886178861789.\n",
      "[I 2024-08-31 19:12:48,586] Trial 90 finished with value: 0.9607798037247687 and parameters: {'max_depth': 12, 'min_child_weight': 1, 'gamma': 0.45043318739102606, 'subsample': 0.9567541699111893, 'colsample_bytree': 0.8427263746328405}. Best is trial 89 with value: 0.9817886178861789.\n",
      "[I 2024-08-31 19:13:37,626] Trial 91 finished with value: 0.9783333333333333 and parameters: {'max_depth': 11, 'min_child_weight': 1, 'gamma': 0.3754815434481646, 'subsample': 0.9524256163844893, 'colsample_bytree': 0.8303851350731405}. Best is trial 89 with value: 0.9817886178861789.\n",
      "[I 2024-08-31 19:14:22,133] Trial 92 finished with value: 0.9775626291856139 and parameters: {'max_depth': 11, 'min_child_weight': 1, 'gamma': 0.37346893526800923, 'subsample': 0.9504798670519135, 'colsample_bytree': 0.8067902601432277}. Best is trial 89 with value: 0.9817886178861789.\n",
      "[I 2024-08-31 19:15:10,203] Trial 93 finished with value: 0.985 and parameters: {'max_depth': 12, 'min_child_weight': 1, 'gamma': 0.4119004728992714, 'subsample': 0.9461913029830225, 'colsample_bytree': 0.8029996587894341}. Best is trial 93 with value: 0.985.\n",
      "[I 2024-08-31 19:15:55,357] Trial 94 finished with value: 0.9726845804051262 and parameters: {'max_depth': 11, 'min_child_weight': 1, 'gamma': 0.38654646202922627, 'subsample': 0.9499188084928996, 'colsample_bytree': 0.7945000027717608}. Best is trial 93 with value: 0.985.\n",
      "[I 2024-08-31 19:16:41,018] Trial 95 finished with value: 0.9733572453371593 and parameters: {'max_depth': 12, 'min_child_weight': 1, 'gamma': 0.42892896889733806, 'subsample': 0.9429345776727209, 'colsample_bytree': 0.7804498794508039}. Best is trial 93 with value: 0.985.\n",
      "[I 2024-08-31 19:17:26,010] Trial 96 finished with value: 0.9494604860027593 and parameters: {'max_depth': 11, 'min_child_weight': 1, 'gamma': 0.370441678118247, 'subsample': 0.9298507739301515, 'colsample_bytree': 0.8061531047066585}. Best is trial 93 with value: 0.985.\n",
      "[I 2024-08-31 19:18:13,431] Trial 97 finished with value: 0.9724524596940884 and parameters: {'max_depth': 13, 'min_child_weight': 1, 'gamma': 0.46580436891961774, 'subsample': 0.9632678118586954, 'colsample_bytree': 0.7682215394900134}. Best is trial 93 with value: 0.985.\n",
      "[I 2024-08-31 19:19:03,725] Trial 98 finished with value: 0.9670397191134519 and parameters: {'max_depth': 12, 'min_child_weight': 1, 'gamma': 0.523131614763236, 'subsample': 0.9714672785918393, 'colsample_bytree': 0.8048377131648853}. Best is trial 93 with value: 0.985.\n",
      "[I 2024-08-31 19:19:49,849] Trial 99 finished with value: 0.9769168684422922 and parameters: {'max_depth': 11, 'min_child_weight': 1, 'gamma': 0.3290735828818343, 'subsample': 0.9480299813029199, 'colsample_bytree': 0.8366273801339795}. Best is trial 93 with value: 0.985.\n"
     ]
    },
    {
     "name": "stdout",
     "output_type": "stream",
     "text": [
      "Best hyperparameters: {'max_depth': 12, 'min_child_weight': 1, 'gamma': 0.4119004728992714, 'subsample': 0.9461913029830225, 'colsample_bytree': 0.8029996587894341}\n"
     ]
    }
   ],
   "source": [
    "train_precisions = []\n",
    "val_precisions = []\n",
    "train_recalls = []\n",
    "val_recalls = []\n",
    "\n",
    "N_SPLITS = 5\n",
    "\n",
    "\n",
    "# ----------------------------- #\n",
    "# Define the objective function #\n",
    "# ----------------------------- #\n",
    "\n",
    "def objective(trial):\n",
    "    params = {\n",
    "        \"objective\": \"binary:logistic\",\n",
    "        \"early_stopping_round\": 10,\n",
    "        'use_label_encoder': False,\n",
    "        'verbosity': 0,\n",
    "        # --- for overfitting ---\n",
    "        'max_depth': trial.suggest_int('max_depth', 1, 16),\n",
    "        'min_child_weight': trial.suggest_int('min_child_weight', 1, 10),\n",
    "        'gamma': trial.suggest_float('gamma', 0, 1.0),\n",
    "        # --- less sensitive to noise ---\n",
    "        'subsample': trial.suggest_float('subsample', 0.7, 1.0),\n",
    "        'colsample_bytree': trial.suggest_float('colsample_bytree', 0.7, 1.0),\n",
    "    }\n",
    "    \n",
    "    tsp = TimeSeriesSplit(n_splits=N_SPLITS).split(X_train)\n",
    "    \n",
    "    train_precision_scores = []\n",
    "    val_precision_scores = []\n",
    "    train_recall_scores = []\n",
    "    val_recall_scores = []\n",
    "    \n",
    "    for train_index, val_index in tsp:\n",
    "        X_train_fold, X_val_fold = X_train.iloc[train_index], X_train.iloc[val_index]\n",
    "        y_train_fold, y_val_fold = y_train.iloc[train_index], y_train.iloc[val_index]\n",
    "        \n",
    "        model = xgb.XGBClassifier(**params, random_state=RANDOM_STATE, n_jobs=-1)\n",
    "        model.fit(X_train_fold, y_train_fold,\n",
    "                  eval_set=[(X_val_fold, y_val_fold)],\n",
    "                  verbose=False)\n",
    "        \n",
    "        y_train_pred = model.predict(X_train_fold)\n",
    "        y_val_pred = model.predict(X_val_fold)\n",
    "        \n",
    "        train_precision = precision_score(y_train_fold, y_train_pred)\n",
    "        val_precision = precision_score(y_val_fold, y_val_pred)\n",
    "        train_recall = recall_score(y_train_fold, y_train_pred)\n",
    "        val_recall = recall_score(y_val_fold, y_val_pred)\n",
    "#         print(f\"Train Precision: {train_precision:.2f}  Val Precision: {val_precision:.2f}\")\n",
    "        \n",
    "        train_precision_scores.append(train_precision)\n",
    "        val_precision_scores.append(val_precision)\n",
    "        train_recall_scores.append(train_recall)\n",
    "        val_recall_scores.append(val_recall)\n",
    "    \n",
    "    train_precisions.append(np.mean(train_precision_scores))\n",
    "    val_precisions.append(np.mean(val_precision_scores))\n",
    "    train_recalls.append(np.mean(train_recall_scores))\n",
    "    val_recalls.append(np.mean(val_recall_scores))\n",
    "\n",
    "    mu_train_precisions = np.mean(train_precisions)\n",
    "    sd_train_precision = np.std(train_precisions)\n",
    "    mu_val_precisions = np.mean(val_precision_scores)\n",
    "    sd_val_precisions = np.std(val_precision_scores)\n",
    "    \n",
    "#     print(f\"Train Precision: {mu_train_precisions:.2f} += {sd_train_precision:.2f}  |  Validation Precision: {mu_val_precisions:.2f} += {sd_val_precisions:.2f}\")\n",
    "    \n",
    "    return np.mean(val_precision_scores)\n",
    "\n",
    "\n",
    "# --------------------------------- #\n",
    "# Run Bayesian Hyperparametertuning #\n",
    "# --------------------------------- #\n",
    "\n",
    "N_TRIALS = 100  # Number of Bayesian trials.\n",
    "\n",
    "study = optuna.create_study(study_name='v2',\n",
    "                            direction='maximize', \n",
    "                            sampler=TPESampler(seed=RANDOM_STATE))\n",
    "study.optimize(objective, n_trials=N_TRIALS)\n",
    "\n",
    "print(f\"Best hyperparameters: {study.best_params}\")"
   ]
  },
  {
   "cell_type": "code",
   "execution_count": 27,
   "id": "6580af87",
   "metadata": {
    "execution": {
     "iopub.execute_input": "2024-08-28T14:30:19.007818Z",
     "iopub.status.busy": "2024-08-28T14:30:19.006794Z",
     "iopub.status.idle": "2024-08-28T14:30:19.337827Z",
     "shell.execute_reply": "2024-08-28T14:30:19.336575Z"
    },
    "papermill": {
     "duration": 0.376893,
     "end_time": "2024-08-28T14:30:19.340507",
     "exception": false,
     "start_time": "2024-08-28T14:30:18.963614",
     "status": "completed"
    },
    "tags": []
   },
   "outputs": [
    {
     "data": {
      "image/png": "[encoded data removed]",
      "text/plain": [
       "<Figure size 500x300 with 1 Axes>"
      ]
     },
     "metadata": {},
     "output_type": "display_data"
    }
   ],
   "source": [
    "plt.figure(figsize=(5, 3))\n",
    "\n",
    "plt.plot(np.arange(N_TRIALS), train_recalls, color='C2', linestyle='--', lw=0.5, label='Train (Recall)');\n",
    "plt.plot(np.arange(N_TRIALS), val_recalls, color='C3', linestyle='--', lw=0.5, label='Validation (Recall)');\n",
    "plt.plot(np.arange(N_TRIALS), train_precisions, color='C0', label='Train (Precision)');\n",
    "plt.plot(np.arange(N_TRIALS), val_precisions, color='C1', label='Validation (Precision)');\n",
    "plt.xlabel('Trial Number');\n",
    "plt.ylabel('Score');\n",
    "plt.title('Precision & Recall Scores per Trial');\n",
    "plt.legend();\n",
    "\n",
    "plt.show()"
   ]
  },
  {
   "cell_type": "code",
   "execution_count": 29,
   "id": "8a8fa64e",
   "metadata": {
    "execution": {
     "iopub.execute_input": "2024-08-28T14:30:19.428999Z",
     "iopub.status.busy": "2024-08-28T14:30:19.428532Z",
     "iopub.status.idle": "2024-08-28T14:30:24.083266Z",
     "shell.execute_reply": "2024-08-28T14:30:24.082011Z"
    },
    "papermill": {
     "duration": 4.701861,
     "end_time": "2024-08-28T14:30:24.085913",
     "exception": false,
     "start_time": "2024-08-28T14:30:19.384052",
     "status": "completed"
    },
    "tags": []
   },
   "outputs": [
    {
     "data": {
      "text/plain": [
       "['model_v2.pkl']"
      ]
     },
     "execution_count": 29,
     "metadata": {},
     "output_type": "execute_result"
    }
   ],
   "source": [
    "# --- Train the final model with the best hyperparameters on the whole train set ---\n",
    "\n",
    "best_params = study.best_params\n",
    "model = xgb.XGBClassifier(**best_params, early_stopping_round=10, eval_metric='logloss')\n",
    "model.fit(X_train, y_train, verbose=0)\n",
    "\n",
    "joblib.dump(model, 'model_v2.pkl')"
   ]
  },
  {
   "cell_type": "markdown",
   "id": "3c619194",
   "metadata": {
    "papermill": {
     "duration": 0.043832,
     "end_time": "2024-08-28T14:30:24.174451",
     "exception": false,
     "start_time": "2024-08-28T14:30:24.130619",
     "status": "completed"
    },
    "tags": []
   },
   "source": [
    "## 🕵️‍ v2 - Validation <a class=\"anchor\"  id=\"section_v2_validation\"></a>"
   ]
  },
  {
   "cell_type": "code",
   "execution_count": 30,
   "id": "891c8fe5",
   "metadata": {
    "execution": {
     "iopub.execute_input": "2024-08-28T14:30:24.261464Z",
     "iopub.status.busy": "2024-08-28T14:30:24.261073Z",
     "iopub.status.idle": "2024-08-28T14:30:25.558569Z",
     "shell.execute_reply": "2024-08-28T14:30:25.557478Z"
    },
    "papermill": {
     "duration": 1.343905,
     "end_time": "2024-08-28T14:30:25.561114",
     "exception": false,
     "start_time": "2024-08-28T14:30:24.217209",
     "status": "completed"
    },
    "tags": []
   },
   "outputs": [
    {
     "data": {
      "text/html": [
       "<div>\n",
       "<style scoped>\n",
       "    .dataframe tbody tr th:only-of-type {\n",
       "        vertical-align: middle;\n",
       "    }\n",
       "\n",
       "    .dataframe tbody tr th {\n",
       "        vertical-align: top;\n",
       "    }\n",
       "\n",
       "    .dataframe thead th {\n",
       "        text-align: right;\n",
       "    }\n",
       "</style>\n",
       "<table border=\"1\" class=\"dataframe\">\n",
       "  <thead>\n",
       "    <tr style=\"text-align: right;\">\n",
       "      <th></th>\n",
       "      <th>Metric</th>\n",
       "      <th>Train</th>\n",
       "      <th>Test</th>\n",
       "    </tr>\n",
       "  </thead>\n",
       "  <tbody>\n",
       "    <tr>\n",
       "      <th>0</th>\n",
       "      <td>Accuracy</td>\n",
       "      <td>1.000000</td>\n",
       "      <td>0.999637</td>\n",
       "    </tr>\n",
       "    <tr>\n",
       "      <th>1</th>\n",
       "      <td>Precision</td>\n",
       "      <td>1.000000</td>\n",
       "      <td>0.941176</td>\n",
       "    </tr>\n",
       "    <tr>\n",
       "      <th>2</th>\n",
       "      <td>Recall</td>\n",
       "      <td>1.000000</td>\n",
       "      <td>0.695652</td>\n",
       "    </tr>\n",
       "    <tr>\n",
       "      <th>3</th>\n",
       "      <td>AUC ROC</td>\n",
       "      <td>1.000000</td>\n",
       "      <td>0.959551</td>\n",
       "    </tr>\n",
       "    <tr>\n",
       "      <th>4</th>\n",
       "      <td>AP</td>\n",
       "      <td>1.000000</td>\n",
       "      <td>0.748453</td>\n",
       "    </tr>\n",
       "    <tr>\n",
       "      <th>5</th>\n",
       "      <td>Brier</td>\n",
       "      <td>0.000006</td>\n",
       "      <td>0.000339</td>\n",
       "    </tr>\n",
       "  </tbody>\n",
       "</table>\n",
       "</div>"
      ],
      "text/plain": [
       "      Metric     Train      Test\n",
       "0   Accuracy  1.000000  0.999637\n",
       "1  Precision  1.000000  0.941176\n",
       "2     Recall  1.000000  0.695652\n",
       "3    AUC ROC  1.000000  0.959551\n",
       "4         AP  1.000000  0.748453\n",
       "5      Brier  0.000006  0.000339"
      ]
     },
     "execution_count": 30,
     "metadata": {},
     "output_type": "execute_result"
    }
   ],
   "source": [
    "# --- Print the performance metrics ---\n",
    "\n",
    "loaded_model = joblib.load('model_v2.pkl')\n",
    "results = return_performance_statistics(loaded_model, X_train, y_train, X_test, y_test)\n",
    "metrics_df = pd.DataFrame({\n",
    "    'Metric': ['Accuracy', 'Precision', 'Recall', 'AUC ROC', 'AP', 'Brier'],\n",
    "    'Train': [\n",
    "        results.get('train').get('accuracy'),\n",
    "        results.get('train').get('precision'),\n",
    "        results.get('train').get('recall'),\n",
    "        results.get('train').get('auc_roc'),\n",
    "        results.get('train').get('ap'),\n",
    "        results.get('train').get('brier'),\n",
    "    ],\n",
    "    'Test': [\n",
    "        results.get('test').get('accuracy'),\n",
    "        results.get('test').get('precision'),\n",
    "        results.get('test').get('recall'),\n",
    "        results.get('test').get('auc_roc'),\n",
    "        results.get('test').get('ap'),\n",
    "        results.get('test').get('brier'),\n",
    "    ],\n",
    "})\n",
    "metrics_df"
   ]
  },
  {
   "cell_type": "code",
   "execution_count": 31,
   "id": "b46bf4f7",
   "metadata": {
    "execution": {
     "iopub.execute_input": "2024-08-28T14:30:25.650072Z",
     "iopub.status.busy": "2024-08-28T14:30:25.649322Z",
     "iopub.status.idle": "2024-08-28T14:30:26.144447Z",
     "shell.execute_reply": "2024-08-28T14:30:26.143373Z"
    },
    "papermill": {
     "duration": 0.542218,
     "end_time": "2024-08-28T14:30:26.146954",
     "exception": false,
     "start_time": "2024-08-28T14:30:25.604736",
     "status": "completed"
    },
    "tags": []
   },
   "outputs": [
    {
     "name": "stdout",
     "output_type": "stream",
     "text": [
      "==================== TRAINING ====================\n",
      "┌──────────────┬────────────────┬──────────────┐\n",
      "│              │   Pred Genuine │   Pred Fraud │\n",
      "├──────────────┼────────────────┼──────────────┤\n",
      "│ True Genuine │        240,279 │            0 │\n",
      "├──────────────┼────────────────┼──────────────┤\n",
      "│ True Fraud   │              0 │          446 │\n",
      "└──────────────┴────────────────┴──────────────┘\n",
      "\n",
      "====================== TEST ======================\n",
      "┌──────────────┬────────────────┬──────────────┐\n",
      "│              │   Pred Genuine │   Pred Fraud │\n",
      "├──────────────┼────────────────┼──────────────┤\n",
      "│ True Genuine │         44,034 │            2 │\n",
      "├──────────────┼────────────────┼──────────────┤\n",
      "│ True Fraud   │             14 │           32 │\n",
      "└──────────────┴────────────────┴──────────────┘\n"
     ]
    }
   ],
   "source": [
    "# --- Print the confusion matrices ---\n",
    "\n",
    "cm = confusion_matrix(y_train, loaded_model.predict(X_train))\n",
    "print(f\"{' TRAINING ':=^50}\")\n",
    "print(tabulate(cm, \n",
    "               headers=[f'Pred {l}' for l in LABELS],\n",
    "               showindex=[f'True {l}' for l in LABELS],\n",
    "               floatfmt=\",.0f\", tablefmt=\"simple_grid\"))\n",
    "print()\n",
    "\n",
    "cm = confusion_matrix(y_test, loaded_model.predict(X_test))\n",
    "print(f\"{' TEST ':=^50}\")\n",
    "print(tabulate(cm, \n",
    "               headers=[f'Pred {l}' for l in LABELS],\n",
    "               showindex=[f'True {l}' for l in LABELS],\n",
    "               floatfmt=\",.0f\", tablefmt=\"simple_grid\"))"
   ]
  },
  {
   "cell_type": "markdown",
   "id": "faac3b97",
   "metadata": {
    "papermill": {
     "duration": 0.042753,
     "end_time": "2024-08-28T14:30:26.233519",
     "exception": false,
     "start_time": "2024-08-28T14:30:26.190766",
     "status": "completed"
    },
    "tags": []
   },
   "source": [
    "## 💰 v2 - Monetary Impact Analysis <a class=\"anchor\"  id=\"section_v2_money\"></a>"
   ]
  },
  {
   "cell_type": "code",
   "execution_count": 32,
   "id": "8aa4d4f2",
   "metadata": {
    "execution": {
     "iopub.execute_input": "2024-08-28T14:30:26.322382Z",
     "iopub.status.busy": "2024-08-28T14:30:26.321459Z",
     "iopub.status.idle": "2024-08-28T14:30:26.8316Z",
     "shell.execute_reply": "2024-08-28T14:30:26.830466Z"
    },
    "papermill": {
     "duration": 0.557842,
     "end_time": "2024-08-28T14:30:26.834476",
     "exception": false,
     "start_time": "2024-08-28T14:30:26.276634",
     "status": "completed"
    },
    "tags": []
   },
   "outputs": [
    {
     "data": {
      "text/html": [
       "<div>\n",
       "<style scoped>\n",
       "    .dataframe tbody tr th:only-of-type {\n",
       "        vertical-align: middle;\n",
       "    }\n",
       "\n",
       "    .dataframe tbody tr th {\n",
       "        vertical-align: top;\n",
       "    }\n",
       "\n",
       "    .dataframe thead th {\n",
       "        text-align: right;\n",
       "    }\n",
       "</style>\n",
       "<table border=\"1\" class=\"dataframe\">\n",
       "  <thead>\n",
       "    <tr style=\"text-align: right;\">\n",
       "      <th></th>\n",
       "      <th>Dataset</th>\n",
       "      <th>TP</th>\n",
       "      <th>TN</th>\n",
       "      <th>FP</th>\n",
       "      <th>FN</th>\n",
       "      <th>TP Amt</th>\n",
       "      <th>TN Amt</th>\n",
       "      <th>FP Amt</th>\n",
       "      <th>FN Amt</th>\n",
       "    </tr>\n",
       "  </thead>\n",
       "  <tbody>\n",
       "    <tr>\n",
       "      <th>0</th>\n",
       "      <td>TRAINING</td>\n",
       "      <td>446</td>\n",
       "      <td>240279</td>\n",
       "      <td>0</td>\n",
       "      <td>0</td>\n",
       "      <td>54513.35</td>\n",
       "      <td>22006732.53</td>\n",
       "      <td>0.00</td>\n",
       "      <td>0.00</td>\n",
       "    </tr>\n",
       "    <tr>\n",
       "      <th>1</th>\n",
       "      <td>TEST</td>\n",
       "      <td>32</td>\n",
       "      <td>44034</td>\n",
       "      <td>2</td>\n",
       "      <td>14</td>\n",
       "      <td>4054.33</td>\n",
       "      <td>3069928.45</td>\n",
       "      <td>25801.06</td>\n",
       "      <td>1560.29</td>\n",
       "    </tr>\n",
       "  </tbody>\n",
       "</table>\n",
       "</div>"
      ],
      "text/plain": [
       "    Dataset   TP      TN  FP  FN    TP Amt       TN Amt    FP Amt   FN Amt\n",
       "0  TRAINING  446  240279   0   0  54513.35  22006732.53      0.00     0.00\n",
       "1      TEST   32   44034   2  14   4054.33   3069928.45  25801.06  1560.29"
      ]
     },
     "execution_count": 32,
     "metadata": {},
     "output_type": "execute_result"
    }
   ],
   "source": [
    "LABELS = ['Genuine', 'Fraud']\n",
    "datasets = ['TRAINING', 'TEST']\n",
    "data = [(y_train, X_train), (y_test, X_test)]\n",
    "\n",
    "def calculate_monetary_impact(y_true, y_pred, amt):\n",
    "    TP = amt[(y_true == 1) & (y_pred == 1)].sum()\n",
    "    TN = amt[(y_true == 0) & (y_pred == 0)].sum()\n",
    "    FP = amt[(y_true == 0) & (y_pred == 1)].sum()\n",
    "    FN = amt[(y_true == 1) & (y_pred == 0)].sum()\n",
    "    return TP, TN, FP, FN\n",
    "\n",
    "results = []\n",
    "\n",
    "for (y, X), dataset in zip(data, datasets):\n",
    "    y_pred = loaded_model.predict(X)\n",
    "    cm = confusion_matrix(y, y_pred)\n",
    "    TP, TN, FP, FN = calculate_monetary_impact(y, y_pred, X[MONEY])\n",
    "    results.append([dataset, cm[1, 1], cm[0, 0], cm[0, 1], cm[1, 0], TP, TN, FP, FN])\n",
    "\n",
    "results_df = pd.DataFrame(results, columns=['Dataset', 'TP', 'TN', 'FP', 'FN', 'TP Amt', 'TN Amt', 'FP Amt', 'FN Amt'])\n",
    "results_df"
   ]
  },
  {
   "cell_type": "markdown",
   "id": "76028db9",
   "metadata": {
    "papermill": {
     "duration": 0.043179,
     "end_time": "2024-08-28T14:30:26.922809",
     "exception": false,
     "start_time": "2024-08-28T14:30:26.87963",
     "status": "completed"
    },
    "tags": []
   },
   "source": [
    "## 📉 v2 - Precision-Recall Curves <a class=\"anchor\"  id=\"section_v2_pr\"></a>"
   ]
  },
  {
   "cell_type": "code",
   "execution_count": 33,
   "id": "f0d6ddf5",
   "metadata": {
    "execution": {
     "iopub.execute_input": "2024-08-28T14:30:27.012809Z",
     "iopub.status.busy": "2024-08-28T14:30:27.012116Z",
     "iopub.status.idle": "2024-08-28T14:30:28.19803Z",
     "shell.execute_reply": "2024-08-28T14:30:28.19685Z"
    },
    "papermill": {
     "duration": 1.233793,
     "end_time": "2024-08-28T14:30:28.200669",
     "exception": false,
     "start_time": "2024-08-28T14:30:26.966876",
     "status": "completed"
    },
    "tags": []
   },
   "outputs": [
    {
     "data": {
      "image/png": "[encoded data removed]",
      "text/plain": [
       "<Figure size 500x300 with 1 Axes>"
      ]
     },
     "metadata": {},
     "output_type": "display_data"
    }
   ],
   "source": [
    "precision_recall_data = {\n",
    "    'Train': [],\n",
    "    'Test': []\n",
    "}\n",
    "\n",
    "# --- Plot precision recall curve ---\n",
    "for dataset, (y, X) in zip(['Train', 'Test'], [(y_train, X_train), (y_test, X_test)]):\n",
    "    y_pred = loaded_model.predict_proba(X)[:, 1]\n",
    "    precision, recall, _ = precision_recall_curve(y, y_pred)\n",
    "    precision_recall_data[dataset] = {\n",
    "        'precision': precision,\n",
    "        'recall': recall,\n",
    "        'ap': average_precision_score(y, y_pred)\n",
    "    }\n",
    "ap_train = precision_recall_data['Train']['ap']\n",
    "ap_test = precision_recall_data['Test']['ap']\n",
    "\n",
    "plt.figure(figsize=(5, 3))\n",
    "plt.plot(precision_recall_data['Train']['recall'], precision_recall_data['Train']['precision'], color='C0', label=f'Train (AP: {ap_train:.3f})');\n",
    "plt.plot(precision_recall_data['Test']['recall'], precision_recall_data['Test']['precision'], color='C1', label=f'Test (AP: {ap_test:.3f})');\n",
    "plt.xlabel('Recall');\n",
    "plt.ylabel('Precision');\n",
    "plt.title('Precision-Recall Curve');\n",
    "plt.legend();\n",
    "plt.show()"
   ]
  },
  {
   "cell_type": "code",
   "execution_count": 34,
   "id": "ea522e93",
   "metadata": {
    "execution": {
     "iopub.execute_input": "2024-08-28T14:30:28.294372Z",
     "iopub.status.busy": "2024-08-28T14:30:28.29366Z",
     "iopub.status.idle": "2024-08-28T14:30:29.643429Z",
     "shell.execute_reply": "2024-08-28T14:30:29.64215Z"
    },
    "papermill": {
     "duration": 1.399391,
     "end_time": "2024-08-28T14:30:29.646176",
     "exception": false,
     "start_time": "2024-08-28T14:30:28.246785",
     "status": "completed"
    },
    "tags": []
   },
   "outputs": [
    {
     "data": {
      "image/png": "[encoded data removed]",
      "text/plain": [
       "<Figure size 500x300 with 1 Axes>"
      ]
     },
     "metadata": {},
     "output_type": "display_data"
    }
   ],
   "source": [
    "# --- Plot the precision and recall for different thresholds --- \n",
    "thresholds = np.linspace(0, 1, len(precision_recall_data['Train']['recall']))\n",
    "\n",
    "plt.figure(figsize=(5, 3))\n",
    "plt.plot(thresholds, precision_recall_data['Train']['precision'], color='C0', lw=2, label='Test Precision');\n",
    "plt.plot(thresholds, precision_recall_data['Train']['recall'], color='C1', lw=2, label='Test Recall');\n",
    "plt.xlabel('Threshold');\n",
    "plt.ylabel('Score');\n",
    "plt.title('Precision & Recall Scores per Threshold');\n",
    "plt.legend();\n",
    "plt.show()"
   ]
  },
  {
   "cell_type": "code",
   "execution_count": null,
   "id": "c8c04544",
   "metadata": {},
   "outputs": [],
   "source": []
  }
 ],
 "metadata": {
  "kaggle": {
   "accelerator": "none",
   "dataSources": [
    {
     "datasetId": 310,
     "sourceId": 23498,
     "sourceType": "datasetVersion"
    }
   ],
   "dockerImageVersionId": 30761,
   "isGpuEnabled": false,
   "isInternetEnabled": true,
   "language": "python",
   "sourceType": "notebook"
  },
  "kernelspec": {
   "display_name": "Python 3 (ipykernel)",
   "language": "python",
   "name": "python3"
  },
  "language_info": {
   "codemirror_mode": {
    "name": "ipython",
    "version": 3
   },
   "file_extension": ".py",
   "mimetype": "text/x-python",
   "name": "python",
   "nbconvert_exporter": "python",
   "pygments_lexer": "ipython3",
   "version": "3.7.12"
  },
  "papermill": {
   "default_parameters": {},
   "duration": 1966.508904,
   "end_time": "2024-08-28T14:30:31.213192",
   "environment_variables": {},
   "exception": null,
   "input_path": "__notebook__.ipynb",
   "output_path": "__notebook__.ipynb",
   "parameters": {},
   "start_time": "2024-08-28T13:57:44.704288",
   "version": "2.6.0"
  }
 },
 "nbformat": 4,
 "nbformat_minor": 5
}
